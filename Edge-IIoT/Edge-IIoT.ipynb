{
 "cells": [
  {
   "cell_type": "code",
   "execution_count": 1,
   "metadata": {},
   "outputs": [],
   "source": [
    "import pandas as pd\n",
    "import numpy as np\n",
    "\n",
    "from sklearn.model_selection import train_test_split\n",
    "from sklearn.preprocessing import LabelEncoder, MinMaxScaler\n",
    "from sklearn.utils import shuffle"
   ]
  },
  {
   "cell_type": "code",
   "execution_count": 87,
   "metadata": {},
   "outputs": [
    {
     "name": "stderr",
     "output_type": "stream",
     "text": [
      "/var/folders/5n/5nt9ztr10sx56m052vljdpfw0000gn/T/ipykernel_73988/2769549640.py:1: DtypeWarning: Columns (2,3,6,11,13,14,15,16,17,31,32,34,39,45,51,54,55) have mixed types. Specify dtype option on import or set low_memory=False.\n",
      "  df = pd.read_csv('DNN-EdgeIIoT-dataset.csv')\n"
     ]
    }
   ],
   "source": [
    "df = pd.read_csv('DNN-EdgeIIoT-dataset.csv')"
   ]
  },
  {
   "cell_type": "code",
   "execution_count": 88,
   "metadata": {},
   "outputs": [],
   "source": [
    "drop_columns = ['frame.time', 'ip.src_host', 'ip.dst_host', 'arp.src.proto_ipv4','arp.dst.proto_ipv4', 'http.file_data','http.request.full_uri','icmp.transmit_timestamp','http.request.uri.query', 'tcp.options','tcp.payload','tcp.srcport','tcp.dstport', 'udp.port', 'mqtt.msg', 'Attack_label']\n",
    "df = df.drop(drop_columns, axis=1)\n",
    "df = df.dropna(axis=0)\n",
    "df = df.drop_duplicates()"
   ]
  },
  {
   "cell_type": "code",
   "execution_count": 89,
   "metadata": {},
   "outputs": [
    {
     "data": {
      "text/plain": [
       "Attack_type\n",
       "Normal                   1380858\n",
       "DDoS_UDP                  121567\n",
       "DDoS_ICMP                  67939\n",
       "SQL_injection              50826\n",
       "DDoS_TCP                   50062\n",
       "Vulnerability_scanner      50026\n",
       "Password                   49933\n",
       "DDoS_HTTP                  49203\n",
       "Uploading                  36915\n",
       "Backdoor                   24026\n",
       "Port_Scanning              19983\n",
       "XSS                        15066\n",
       "Ransomware                  9689\n",
       "Fingerprinting               853\n",
       "MITM                         358\n",
       "Name: count, dtype: int64"
      ]
     },
     "execution_count": 89,
     "metadata": {},
     "output_type": "execute_result"
    }
   ],
   "source": [
    "df['Attack_type'].value_counts()"
   ]
  },
  {
   "cell_type": "code",
   "execution_count": 90,
   "metadata": {},
   "outputs": [
    {
     "data": {
      "text/plain": [
       "Index(['arp.opcode', 'arp.hw.size', 'icmp.checksum', 'icmp.seq_le',\n",
       "       'icmp.unused', 'http.content_length', 'http.request.method',\n",
       "       'http.referer', 'http.request.version', 'http.response',\n",
       "       'http.tls_port', 'tcp.ack', 'tcp.ack_raw', 'tcp.checksum',\n",
       "       'tcp.connection.fin', 'tcp.connection.rst', 'tcp.connection.syn',\n",
       "       'tcp.connection.synack', 'tcp.flags', 'tcp.flags.ack', 'tcp.len',\n",
       "       'tcp.seq', 'udp.stream', 'udp.time_delta', 'dns.qry.name',\n",
       "       'dns.qry.name.len', 'dns.qry.qu', 'dns.qry.type', 'dns.retransmission',\n",
       "       'dns.retransmit_request', 'dns.retransmit_request_in',\n",
       "       'mqtt.conack.flags', 'mqtt.conflag.cleansess', 'mqtt.conflags',\n",
       "       'mqtt.hdrflags', 'mqtt.len', 'mqtt.msg_decoded_as', 'mqtt.msgtype',\n",
       "       'mqtt.proto_len', 'mqtt.protoname', 'mqtt.topic', 'mqtt.topic_len',\n",
       "       'mqtt.ver', 'mbtcp.len', 'mbtcp.trans_id', 'mbtcp.unit_id',\n",
       "       'Attack_type'],\n",
       "      dtype='object')"
      ]
     },
     "execution_count": 90,
     "metadata": {},
     "output_type": "execute_result"
    }
   ],
   "source": [
    "df.columns"
   ]
  },
  {
   "cell_type": "code",
   "execution_count": 91,
   "metadata": {},
   "outputs": [],
   "source": [
    "categorical_columns = ['http.request.method', 'http.referer', 'http.request.version', 'dns.qry.name.len', 'mqtt.conack.flags', 'mqtt.protoname', 'mqtt.topic']\n",
    "for column in categorical_columns:\n",
    "    dummies = pd.get_dummies(df[column])\n",
    "    for d_col in dummies.columns:\n",
    "        dummy_name = f'{column}_{d_col}'\n",
    "        df[dummy_name] = dummies[d_col].astype(int)\n",
    "    df = df.drop(column, axis=1)"
   ]
  },
  {
   "cell_type": "code",
   "execution_count": 92,
   "metadata": {},
   "outputs": [
    {
     "data": {
      "text/plain": [
       "arp.opcode                             float64\n",
       "arp.hw.size                            float64\n",
       "icmp.checksum                          float64\n",
       "icmp.seq_le                            float64\n",
       "icmp.unused                            float64\n",
       "                                        ...   \n",
       "mqtt.protoname_0                         int64\n",
       "mqtt.protoname_MQTT                      int64\n",
       "mqtt.topic_0.0                           int64\n",
       "mqtt.topic_0                             int64\n",
       "mqtt.topic_Temperature_and_Humidity      int64\n",
       "Length: 96, dtype: object"
      ]
     },
     "execution_count": 92,
     "metadata": {},
     "output_type": "execute_result"
    }
   ],
   "source": [
    "df.dtypes"
   ]
  },
  {
   "cell_type": "code",
   "execution_count": 93,
   "metadata": {},
   "outputs": [],
   "source": [
    "labels = df['Attack_type']\n",
    "df = df.drop(columns=['Attack_type'])"
   ]
  },
  {
   "cell_type": "code",
   "execution_count": 94,
   "metadata": {},
   "outputs": [],
   "source": [
    "encoder = LabelEncoder()\n",
    "labels = encoder.fit_transform(labels.values.ravel())"
   ]
  },
  {
   "cell_type": "code",
   "execution_count": 95,
   "metadata": {},
   "outputs": [
    {
     "data": {
      "text/plain": [
       "array([7, 7, 7, ..., 2, 2, 2])"
      ]
     },
     "execution_count": 95,
     "metadata": {},
     "output_type": "execute_result"
    }
   ],
   "source": [
    "labels"
   ]
  },
  {
   "cell_type": "code",
   "execution_count": 96,
   "metadata": {},
   "outputs": [],
   "source": [
    "numeric_columns = ['arp.opcode', 'arp.hw.size', 'icmp.checksum', 'icmp.seq_le','icmp.unused', 'http.content_length', 'http.response','http.tls_port', 'tcp.ack', 'tcp.ack_raw', 'tcp.checksum','tcp.connection.fin', 'tcp.connection.rst', 'tcp.connection.syn','tcp.connection.synack', 'tcp.flags', 'tcp.flags.ack', 'tcp.len','tcp.seq', 'udp.stream', 'udp.time_delta', 'dns.qry.name','dns.qry.qu', 'dns.qry.type', 'dns.retransmission','dns.retransmit_request', 'dns.retransmit_request_in','mqtt.conflag.cleansess', 'mqtt.conflags','mqtt.hdrflags', 'mqtt.len', 'mqtt.msg_decoded_as', 'mqtt.msgtype','mqtt.proto_len', 'mqtt.topic_len','mqtt.ver', 'mbtcp.len', 'mbtcp.trans_id', 'mbtcp.unit_id']\n",
    "scaler = MinMaxScaler()\n",
    "df[numeric_columns] = scaler.fit_transform(df[numeric_columns])"
   ]
  },
  {
   "cell_type": "code",
   "execution_count": 97,
   "metadata": {},
   "outputs": [],
   "source": [
    "x_train, x_test, y_train, y_test = train_test_split(df, labels, test_size=0.2, random_state=69)"
   ]
  },
  {
   "cell_type": "code",
   "execution_count": 98,
   "metadata": {},
   "outputs": [
    {
     "data": {
      "text/plain": [
       "95"
      ]
     },
     "execution_count": 98,
     "metadata": {},
     "output_type": "execute_result"
    }
   ],
   "source": [
    "len(x_train.columns)"
   ]
  },
  {
   "cell_type": "code",
   "execution_count": 99,
   "metadata": {},
   "outputs": [],
   "source": [
    "import torch\n",
    "import torch.nn as nn\n",
    "import torch.optim as optim\n",
    "import torch.nn.functional as F\n",
    "from torch.utils.data import DataLoader, TensorDataset"
   ]
  },
  {
   "cell_type": "code",
   "execution_count": 100,
   "metadata": {},
   "outputs": [],
   "source": [
    "class DNNMulticlass(nn.Module):\n",
    "\n",
    "    def __init__(self):\n",
    "        super().__init__()\n",
    "        self.ll1 = nn.Linear(95, 128) # 36 features => X_train.shape[1]\n",
    "        self.ll2 = nn.Linear(128, 256)\n",
    "        self.ll3 = nn.Linear(256, 256)\n",
    "        self.last = nn.Linear(256, 15) # 15 classifications =>  y_train.value_counts()\n",
    "\n",
    "    def forward(self, x):\n",
    "        x = F.relu(self.ll1(x))\n",
    "        x = F.relu(self.ll2(x))\n",
    "        x = F.relu(self.ll3(x))  \n",
    "        x = self.last(x) \n",
    "        return x"
   ]
  },
  {
   "cell_type": "code",
   "execution_count": 101,
   "metadata": {},
   "outputs": [],
   "source": [
    "class EarlyStopping:\n",
    "    def __init__(self, patience=5, delta=0):\n",
    "        self.patience = patience\n",
    "        self.counter = 0\n",
    "        self.best_loss = None\n",
    "        self.early_stop = False\n",
    "        self.delta = delta\n",
    "\n",
    "    def __call__(self, val_loss):\n",
    "        if self.best_loss is None:\n",
    "            self.best_loss = val_loss\n",
    "        elif val_loss > self.best_loss - self.delta:\n",
    "            self.counter += 1\n",
    "            if self.counter >= self.patience:\n",
    "                self.early_stop = True\n",
    "        else:\n",
    "            self.best_loss = val_loss\n",
    "            self.counter = 0"
   ]
  },
  {
   "cell_type": "code",
   "execution_count": 103,
   "metadata": {},
   "outputs": [],
   "source": [
    "X_train_tensor = torch.tensor(x_train.to_numpy(), dtype=torch.float32)\n",
    "X_test_tensor = torch.tensor(x_test.to_numpy(), dtype=torch.float32)\n",
    "\n",
    "y_train_tensor = torch.tensor(y_train, dtype=torch.long)\n",
    "y_test_tensor = torch.tensor(y_test, dtype=torch.long)"
   ]
  },
  {
   "cell_type": "code",
   "execution_count": 104,
   "metadata": {},
   "outputs": [],
   "source": [
    "train_dataset = TensorDataset(X_train_tensor, y_train_tensor)\n",
    "train_loader = DataLoader(dataset=train_dataset, batch_size=250)\n",
    "\n",
    "test_dataset = TensorDataset(X_test_tensor, y_test_tensor)\n",
    "test_loader = DataLoader(dataset=test_dataset, batch_size=250)"
   ]
  },
  {
   "cell_type": "code",
   "execution_count": 105,
   "metadata": {},
   "outputs": [
    {
     "name": "stdout",
     "output_type": "stream",
     "text": [
      "Epoch [1/50], Training Loss: 0.1204, Validation Loss: 0.1121\n",
      "Epoch [2/50], Training Loss: 0.1089, Validation Loss: 0.0984\n",
      "Epoch [3/50], Training Loss: 0.1006, Validation Loss: 0.0965\n",
      "Epoch [4/50], Training Loss: 0.0978, Validation Loss: 0.0952\n",
      "Epoch [5/50], Training Loss: 0.0964, Validation Loss: 0.0943\n",
      "Epoch [6/50], Training Loss: 0.0956, Validation Loss: 0.0964\n",
      "Epoch [7/50], Training Loss: 0.0954, Validation Loss: 0.0938\n",
      "Epoch [8/50], Training Loss: 0.0949, Validation Loss: 0.0956\n",
      "Epoch [9/50], Training Loss: 0.0952, Validation Loss: 0.0940\n",
      "Epoch [10/50], Training Loss: 0.0947, Validation Loss: 0.0991\n",
      "Epoch [11/50], Training Loss: 0.0948, Validation Loss: 0.0933\n",
      "Epoch [12/50], Training Loss: 0.0947, Validation Loss: 0.0936\n",
      "Early stopping triggered\n",
      "Finished Training\n"
     ]
    }
   ],
   "source": [
    "model_dnn = DNNMulticlass()\n",
    "early_stopping = EarlyStopping(patience=5, delta=0.001)\n",
    "\n",
    "criterion = nn.CrossEntropyLoss()\n",
    "optimizer = optim.RMSprop(model_dnn.parameters(), lr=0.001)\n",
    "\n",
    "training_losses = []\n",
    "validation_losses = []\n",
    "\n",
    "epochs = 50 # Training rounds\n",
    "for epoch in range(epochs): \n",
    "    model_dnn.train()\n",
    "    train_loss = 0.0\n",
    "    for inputs, labels in train_loader:\n",
    "\n",
    "        optimizer.zero_grad()\n",
    "\n",
    "        # Feed forward + backpropogate\n",
    "        outputs = model_dnn(inputs)\n",
    "        loss = criterion(outputs, labels)\n",
    "        loss.backward()\n",
    "        optimizer.step()\n",
    "        train_loss += loss.item()\n",
    "\n",
    "    avg_train_loss = train_loss / len(train_loader)\n",
    "    training_losses.append(avg_train_loss)\n",
    "\n",
    "    # Validation\n",
    "    model_dnn.eval()\n",
    "    with torch.no_grad():\n",
    "        val_loss = 0.0\n",
    "        for inputs, labels in test_loader:\n",
    "            outputs = model_dnn(inputs)\n",
    "            loss = criterion(outputs, labels)\n",
    "            val_loss += loss.item()\n",
    "\n",
    "        # Average validation loss for this epoch\n",
    "        avg_val_loss = val_loss / len(test_loader)\n",
    "        validation_losses.append(avg_val_loss)\n",
    "\n",
    "    print(f'Epoch [{epoch + 1}/{epochs}], Training Loss: {avg_train_loss:.4f}, Validation Loss: {avg_val_loss:.4f}')\n",
    "\n",
    "    early_stopping(avg_val_loss)\n",
    "    if early_stopping.early_stop:\n",
    "        print(\"Early stopping triggered\")\n",
    "        break\n",
    "\n",
    "print('Finished Training')"
   ]
  },
  {
   "cell_type": "code",
   "execution_count": 106,
   "metadata": {},
   "outputs": [
    {
     "data": {
      "image/png": "[encoded data removed]",
      "text/plain": [
       "<Figure size 1000x600 with 1 Axes>"
      ]
     },
     "metadata": {},
     "output_type": "display_data"
    }
   ],
   "source": [
    "import matplotlib.pyplot as plt\n",
    "\n",
    "plt.figure(figsize=(10, 6))\n",
    "plt.plot(training_losses, label='Training Loss')\n",
    "plt.plot(validation_losses, label='Validation Loss')\n",
    "plt.title('Training and Validation Loss per Epoch')\n",
    "plt.xlabel('Epochs')\n",
    "plt.ylabel('Loss')\n",
    "plt.legend()\n",
    "plt.show()"
   ]
  }
 ],
 "metadata": {
  "kernelspec": {
   "display_name": "ml-exploration",
   "language": "python",
   "name": "python3"
  },
  "language_info": {
   "codemirror_mode": {
    "name": "ipython",
    "version": 3
   },
   "file_extension": ".py",
   "mimetype": "text/x-python",
   "name": "python",
   "nbconvert_exporter": "python",
   "pygments_lexer": "ipython3",
   "version": "3.12.4"
  }
 },
 "nbformat": 4,
 "nbformat_minor": 2
}
