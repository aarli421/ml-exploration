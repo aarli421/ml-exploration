{
 "cells": [
  {
   "cell_type": "markdown",
   "id": "afbec417",
   "metadata": {},
   "source": [
    "# Imports"
   ]
  },
  {
   "cell_type": "code",
   "execution_count": 1,
   "id": "02651fc8",
   "metadata": {
    "scrolled": true
   },
   "outputs": [
    {
     "name": "stderr",
     "output_type": "stream",
     "text": [
      "/var/folders/5n/5nt9ztr10sx56m052vljdpfw0000gn/T/ipykernel_72887/3502098173.py:5: DeprecationWarning: Importing display from IPython.core.display is deprecated since IPython 7.14, please import from IPython display\n",
      "  from IPython.core.display import display, HTML\n"
     ]
    }
   ],
   "source": [
    "import pandas as pd\n",
    "import numpy as np\n",
    "import matplotlib.pyplot as plt\n",
    "\n",
    "from IPython.core.display import display, HTML\n",
    "import plotly.graph_objects as go\n",
    "import plotly.express as px\n",
    "from plotly.subplots import make_subplots\n",
    "import plotly.io as pio\n",
    "\n",
    "from sklearn.metrics import classification_report, confusion_matrix\n",
    "from sklearn.metrics import accuracy_score, precision_score, recall_score, f1_score\n",
    "from sklearn.model_selection import GridSearchCV\n",
    "from sklearn.preprocessing import StandardScaler\n",
    "from sklearn.model_selection import train_test_split\n",
    "from sklearn.metrics import roc_auc_score\n",
    "from sklearn.preprocessing import label_binarize\n",
    "from sklearn.preprocessing import LabelEncoder\n",
    "from sklearn.metrics import precision_recall_fscore_support"
   ]
  },
  {
   "cell_type": "code",
   "execution_count": 2,
   "id": "2b210636",
   "metadata": {},
   "outputs": [],
   "source": [
    "training = pd.read_csv('./UNSW_NB15_training-set.csv')\n",
    "testing = pd.read_csv('./UNSW_NB15_testing-set.csv')\n",
    "\n",
    "df = pd.concat([training, testing])"
   ]
  },
  {
   "cell_type": "code",
   "execution_count": 3,
   "id": "63f000d4",
   "metadata": {},
   "outputs": [
    {
     "data": {
      "text/html": [
       "<div>\n",
       "<style scoped>\n",
       "    .dataframe tbody tr th:only-of-type {\n",
       "        vertical-align: middle;\n",
       "    }\n",
       "\n",
       "    .dataframe tbody tr th {\n",
       "        vertical-align: top;\n",
       "    }\n",
       "\n",
       "    .dataframe thead th {\n",
       "        text-align: right;\n",
       "    }\n",
       "</style>\n",
       "<table border=\"1\" class=\"dataframe\">\n",
       "  <thead>\n",
       "    <tr style=\"text-align: right;\">\n",
       "      <th></th>\n",
       "      <th>id</th>\n",
       "      <th>dur</th>\n",
       "      <th>proto</th>\n",
       "      <th>service</th>\n",
       "      <th>state</th>\n",
       "      <th>spkts</th>\n",
       "      <th>dpkts</th>\n",
       "      <th>sbytes</th>\n",
       "      <th>dbytes</th>\n",
       "      <th>rate</th>\n",
       "      <th>...</th>\n",
       "      <th>ct_dst_sport_ltm</th>\n",
       "      <th>ct_dst_src_ltm</th>\n",
       "      <th>is_ftp_login</th>\n",
       "      <th>ct_ftp_cmd</th>\n",
       "      <th>ct_flw_http_mthd</th>\n",
       "      <th>ct_src_ltm</th>\n",
       "      <th>ct_srv_dst</th>\n",
       "      <th>is_sm_ips_ports</th>\n",
       "      <th>attack_cat</th>\n",
       "      <th>label</th>\n",
       "    </tr>\n",
       "  </thead>\n",
       "  <tbody>\n",
       "    <tr>\n",
       "      <th>0</th>\n",
       "      <td>1</td>\n",
       "      <td>0.000011</td>\n",
       "      <td>udp</td>\n",
       "      <td>-</td>\n",
       "      <td>INT</td>\n",
       "      <td>2</td>\n",
       "      <td>0</td>\n",
       "      <td>496</td>\n",
       "      <td>0</td>\n",
       "      <td>90909.090200</td>\n",
       "      <td>...</td>\n",
       "      <td>1</td>\n",
       "      <td>2</td>\n",
       "      <td>0</td>\n",
       "      <td>0</td>\n",
       "      <td>0</td>\n",
       "      <td>1</td>\n",
       "      <td>2</td>\n",
       "      <td>0</td>\n",
       "      <td>Normal</td>\n",
       "      <td>0</td>\n",
       "    </tr>\n",
       "    <tr>\n",
       "      <th>1</th>\n",
       "      <td>2</td>\n",
       "      <td>0.000008</td>\n",
       "      <td>udp</td>\n",
       "      <td>-</td>\n",
       "      <td>INT</td>\n",
       "      <td>2</td>\n",
       "      <td>0</td>\n",
       "      <td>1762</td>\n",
       "      <td>0</td>\n",
       "      <td>125000.000300</td>\n",
       "      <td>...</td>\n",
       "      <td>1</td>\n",
       "      <td>2</td>\n",
       "      <td>0</td>\n",
       "      <td>0</td>\n",
       "      <td>0</td>\n",
       "      <td>1</td>\n",
       "      <td>2</td>\n",
       "      <td>0</td>\n",
       "      <td>Normal</td>\n",
       "      <td>0</td>\n",
       "    </tr>\n",
       "    <tr>\n",
       "      <th>2</th>\n",
       "      <td>3</td>\n",
       "      <td>0.000005</td>\n",
       "      <td>udp</td>\n",
       "      <td>-</td>\n",
       "      <td>INT</td>\n",
       "      <td>2</td>\n",
       "      <td>0</td>\n",
       "      <td>1068</td>\n",
       "      <td>0</td>\n",
       "      <td>200000.005100</td>\n",
       "      <td>...</td>\n",
       "      <td>1</td>\n",
       "      <td>3</td>\n",
       "      <td>0</td>\n",
       "      <td>0</td>\n",
       "      <td>0</td>\n",
       "      <td>1</td>\n",
       "      <td>3</td>\n",
       "      <td>0</td>\n",
       "      <td>Normal</td>\n",
       "      <td>0</td>\n",
       "    </tr>\n",
       "    <tr>\n",
       "      <th>3</th>\n",
       "      <td>4</td>\n",
       "      <td>0.000006</td>\n",
       "      <td>udp</td>\n",
       "      <td>-</td>\n",
       "      <td>INT</td>\n",
       "      <td>2</td>\n",
       "      <td>0</td>\n",
       "      <td>900</td>\n",
       "      <td>0</td>\n",
       "      <td>166666.660800</td>\n",
       "      <td>...</td>\n",
       "      <td>1</td>\n",
       "      <td>3</td>\n",
       "      <td>0</td>\n",
       "      <td>0</td>\n",
       "      <td>0</td>\n",
       "      <td>2</td>\n",
       "      <td>3</td>\n",
       "      <td>0</td>\n",
       "      <td>Normal</td>\n",
       "      <td>0</td>\n",
       "    </tr>\n",
       "    <tr>\n",
       "      <th>4</th>\n",
       "      <td>5</td>\n",
       "      <td>0.000010</td>\n",
       "      <td>udp</td>\n",
       "      <td>-</td>\n",
       "      <td>INT</td>\n",
       "      <td>2</td>\n",
       "      <td>0</td>\n",
       "      <td>2126</td>\n",
       "      <td>0</td>\n",
       "      <td>100000.002500</td>\n",
       "      <td>...</td>\n",
       "      <td>1</td>\n",
       "      <td>3</td>\n",
       "      <td>0</td>\n",
       "      <td>0</td>\n",
       "      <td>0</td>\n",
       "      <td>2</td>\n",
       "      <td>3</td>\n",
       "      <td>0</td>\n",
       "      <td>Normal</td>\n",
       "      <td>0</td>\n",
       "    </tr>\n",
       "    <tr>\n",
       "      <th>...</th>\n",
       "      <td>...</td>\n",
       "      <td>...</td>\n",
       "      <td>...</td>\n",
       "      <td>...</td>\n",
       "      <td>...</td>\n",
       "      <td>...</td>\n",
       "      <td>...</td>\n",
       "      <td>...</td>\n",
       "      <td>...</td>\n",
       "      <td>...</td>\n",
       "      <td>...</td>\n",
       "      <td>...</td>\n",
       "      <td>...</td>\n",
       "      <td>...</td>\n",
       "      <td>...</td>\n",
       "      <td>...</td>\n",
       "      <td>...</td>\n",
       "      <td>...</td>\n",
       "      <td>...</td>\n",
       "      <td>...</td>\n",
       "      <td>...</td>\n",
       "    </tr>\n",
       "    <tr>\n",
       "      <th>175336</th>\n",
       "      <td>175337</td>\n",
       "      <td>0.000009</td>\n",
       "      <td>udp</td>\n",
       "      <td>dns</td>\n",
       "      <td>INT</td>\n",
       "      <td>2</td>\n",
       "      <td>0</td>\n",
       "      <td>114</td>\n",
       "      <td>0</td>\n",
       "      <td>111111.107200</td>\n",
       "      <td>...</td>\n",
       "      <td>13</td>\n",
       "      <td>24</td>\n",
       "      <td>0</td>\n",
       "      <td>0</td>\n",
       "      <td>0</td>\n",
       "      <td>24</td>\n",
       "      <td>24</td>\n",
       "      <td>0</td>\n",
       "      <td>Generic</td>\n",
       "      <td>1</td>\n",
       "    </tr>\n",
       "    <tr>\n",
       "      <th>175337</th>\n",
       "      <td>175338</td>\n",
       "      <td>0.505762</td>\n",
       "      <td>tcp</td>\n",
       "      <td>-</td>\n",
       "      <td>FIN</td>\n",
       "      <td>10</td>\n",
       "      <td>8</td>\n",
       "      <td>620</td>\n",
       "      <td>354</td>\n",
       "      <td>33.612649</td>\n",
       "      <td>...</td>\n",
       "      <td>1</td>\n",
       "      <td>2</td>\n",
       "      <td>0</td>\n",
       "      <td>0</td>\n",
       "      <td>0</td>\n",
       "      <td>1</td>\n",
       "      <td>1</td>\n",
       "      <td>0</td>\n",
       "      <td>Shellcode</td>\n",
       "      <td>1</td>\n",
       "    </tr>\n",
       "    <tr>\n",
       "      <th>175338</th>\n",
       "      <td>175339</td>\n",
       "      <td>0.000009</td>\n",
       "      <td>udp</td>\n",
       "      <td>dns</td>\n",
       "      <td>INT</td>\n",
       "      <td>2</td>\n",
       "      <td>0</td>\n",
       "      <td>114</td>\n",
       "      <td>0</td>\n",
       "      <td>111111.107200</td>\n",
       "      <td>...</td>\n",
       "      <td>3</td>\n",
       "      <td>13</td>\n",
       "      <td>0</td>\n",
       "      <td>0</td>\n",
       "      <td>0</td>\n",
       "      <td>3</td>\n",
       "      <td>12</td>\n",
       "      <td>0</td>\n",
       "      <td>Generic</td>\n",
       "      <td>1</td>\n",
       "    </tr>\n",
       "    <tr>\n",
       "      <th>175339</th>\n",
       "      <td>175340</td>\n",
       "      <td>0.000009</td>\n",
       "      <td>udp</td>\n",
       "      <td>dns</td>\n",
       "      <td>INT</td>\n",
       "      <td>2</td>\n",
       "      <td>0</td>\n",
       "      <td>114</td>\n",
       "      <td>0</td>\n",
       "      <td>111111.107200</td>\n",
       "      <td>...</td>\n",
       "      <td>14</td>\n",
       "      <td>30</td>\n",
       "      <td>0</td>\n",
       "      <td>0</td>\n",
       "      <td>0</td>\n",
       "      <td>30</td>\n",
       "      <td>30</td>\n",
       "      <td>0</td>\n",
       "      <td>Generic</td>\n",
       "      <td>1</td>\n",
       "    </tr>\n",
       "    <tr>\n",
       "      <th>175340</th>\n",
       "      <td>175341</td>\n",
       "      <td>0.000009</td>\n",
       "      <td>udp</td>\n",
       "      <td>dns</td>\n",
       "      <td>INT</td>\n",
       "      <td>2</td>\n",
       "      <td>0</td>\n",
       "      <td>114</td>\n",
       "      <td>0</td>\n",
       "      <td>111111.107200</td>\n",
       "      <td>...</td>\n",
       "      <td>16</td>\n",
       "      <td>30</td>\n",
       "      <td>0</td>\n",
       "      <td>0</td>\n",
       "      <td>0</td>\n",
       "      <td>30</td>\n",
       "      <td>30</td>\n",
       "      <td>0</td>\n",
       "      <td>Generic</td>\n",
       "      <td>1</td>\n",
       "    </tr>\n",
       "  </tbody>\n",
       "</table>\n",
       "<p>257673 rows × 45 columns</p>\n",
       "</div>"
      ],
      "text/plain": [
       "            id       dur proto service state  spkts  dpkts  sbytes  dbytes  \\\n",
       "0            1  0.000011   udp       -   INT      2      0     496       0   \n",
       "1            2  0.000008   udp       -   INT      2      0    1762       0   \n",
       "2            3  0.000005   udp       -   INT      2      0    1068       0   \n",
       "3            4  0.000006   udp       -   INT      2      0     900       0   \n",
       "4            5  0.000010   udp       -   INT      2      0    2126       0   \n",
       "...        ...       ...   ...     ...   ...    ...    ...     ...     ...   \n",
       "175336  175337  0.000009   udp     dns   INT      2      0     114       0   \n",
       "175337  175338  0.505762   tcp       -   FIN     10      8     620     354   \n",
       "175338  175339  0.000009   udp     dns   INT      2      0     114       0   \n",
       "175339  175340  0.000009   udp     dns   INT      2      0     114       0   \n",
       "175340  175341  0.000009   udp     dns   INT      2      0     114       0   \n",
       "\n",
       "                 rate  ...  ct_dst_sport_ltm  ct_dst_src_ltm  is_ftp_login  \\\n",
       "0        90909.090200  ...                 1               2             0   \n",
       "1       125000.000300  ...                 1               2             0   \n",
       "2       200000.005100  ...                 1               3             0   \n",
       "3       166666.660800  ...                 1               3             0   \n",
       "4       100000.002500  ...                 1               3             0   \n",
       "...               ...  ...               ...             ...           ...   \n",
       "175336  111111.107200  ...                13              24             0   \n",
       "175337      33.612649  ...                 1               2             0   \n",
       "175338  111111.107200  ...                 3              13             0   \n",
       "175339  111111.107200  ...                14              30             0   \n",
       "175340  111111.107200  ...                16              30             0   \n",
       "\n",
       "        ct_ftp_cmd  ct_flw_http_mthd  ct_src_ltm  ct_srv_dst  is_sm_ips_ports  \\\n",
       "0                0                 0           1           2                0   \n",
       "1                0                 0           1           2                0   \n",
       "2                0                 0           1           3                0   \n",
       "3                0                 0           2           3                0   \n",
       "4                0                 0           2           3                0   \n",
       "...            ...               ...         ...         ...              ...   \n",
       "175336           0                 0          24          24                0   \n",
       "175337           0                 0           1           1                0   \n",
       "175338           0                 0           3          12                0   \n",
       "175339           0                 0          30          30                0   \n",
       "175340           0                 0          30          30                0   \n",
       "\n",
       "        attack_cat  label  \n",
       "0           Normal      0  \n",
       "1           Normal      0  \n",
       "2           Normal      0  \n",
       "3           Normal      0  \n",
       "4           Normal      0  \n",
       "...            ...    ...  \n",
       "175336     Generic      1  \n",
       "175337   Shellcode      1  \n",
       "175338     Generic      1  \n",
       "175339     Generic      1  \n",
       "175340     Generic      1  \n",
       "\n",
       "[257673 rows x 45 columns]"
      ]
     },
     "execution_count": 3,
     "metadata": {},
     "output_type": "execute_result"
    }
   ],
   "source": [
    "df"
   ]
  },
  {
   "cell_type": "markdown",
   "id": "36dc412e",
   "metadata": {},
   "source": [
    "# Pre-Processing"
   ]
  },
  {
   "cell_type": "code",
   "execution_count": 4,
   "id": "49524952",
   "metadata": {},
   "outputs": [],
   "source": [
    "drop_cols = ['id', 'label']\n",
    "df.drop(drop_cols,axis=1,inplace=True)"
   ]
  },
  {
   "cell_type": "code",
   "execution_count": 5,
   "id": "61adbe72",
   "metadata": {},
   "outputs": [
    {
     "data": {
      "text/plain": [
       "['dur',\n",
       " 'proto',\n",
       " 'service',\n",
       " 'state',\n",
       " 'spkts',\n",
       " 'dpkts',\n",
       " 'sbytes',\n",
       " 'dbytes',\n",
       " 'rate',\n",
       " 'sttl',\n",
       " 'dttl',\n",
       " 'sload',\n",
       " 'dload',\n",
       " 'sloss',\n",
       " 'dloss',\n",
       " 'sinpkt',\n",
       " 'dinpkt',\n",
       " 'sjit',\n",
       " 'djit',\n",
       " 'swin',\n",
       " 'stcpb',\n",
       " 'dtcpb',\n",
       " 'dwin',\n",
       " 'tcprtt',\n",
       " 'synack',\n",
       " 'ackdat',\n",
       " 'smean',\n",
       " 'dmean',\n",
       " 'trans_depth',\n",
       " 'response_body_len',\n",
       " 'ct_srv_src',\n",
       " 'ct_state_ttl',\n",
       " 'ct_dst_ltm',\n",
       " 'ct_src_dport_ltm',\n",
       " 'ct_dst_sport_ltm',\n",
       " 'ct_dst_src_ltm',\n",
       " 'is_ftp_login',\n",
       " 'ct_ftp_cmd',\n",
       " 'ct_flw_http_mthd',\n",
       " 'ct_src_ltm',\n",
       " 'ct_srv_dst',\n",
       " 'is_sm_ips_ports',\n",
       " 'attack_cat']"
      ]
     },
     "execution_count": 5,
     "metadata": {},
     "output_type": "execute_result"
    }
   ],
   "source": [
    "df.columns.tolist()"
   ]
  },
  {
   "cell_type": "markdown",
   "id": "1a1e0036",
   "metadata": {},
   "source": [
    "### Apply Clamping"
   ]
  },
  {
   "cell_type": "markdown",
   "id": "f5bf65ee",
   "metadata": {},
   "source": [
    "The extreme values should be pruned to reduce the skewness of some distributions. The logic applied here is that the features with a maximum value more than ten times the median value is pruned to the 95th percentile. If the 95th percentile is close to the maximum, then the tail has more interesting information than what we want to discard.\n",
    "\n",
    "The clamping is also only applied to features with a maximum of more than 10 times the median. This prevents the bimodals and small value distributions from being excessively pruned."
   ]
  },
  {
   "cell_type": "code",
   "execution_count": 6,
   "id": "6d521d3d",
   "metadata": {},
   "outputs": [
    {
     "data": {
      "text/html": [
       "<div>\n",
       "<style scoped>\n",
       "    .dataframe tbody tr th:only-of-type {\n",
       "        vertical-align: middle;\n",
       "    }\n",
       "\n",
       "    .dataframe tbody tr th {\n",
       "        vertical-align: top;\n",
       "    }\n",
       "\n",
       "    .dataframe thead th {\n",
       "        text-align: right;\n",
       "    }\n",
       "</style>\n",
       "<table border=\"1\" class=\"dataframe\">\n",
       "  <thead>\n",
       "    <tr style=\"text-align: right;\">\n",
       "      <th></th>\n",
       "      <th>dur</th>\n",
       "      <th>spkts</th>\n",
       "      <th>dpkts</th>\n",
       "      <th>sbytes</th>\n",
       "      <th>dbytes</th>\n",
       "      <th>rate</th>\n",
       "      <th>sttl</th>\n",
       "      <th>dttl</th>\n",
       "      <th>sload</th>\n",
       "      <th>dload</th>\n",
       "      <th>...</th>\n",
       "      <th>ct_dst_ltm</th>\n",
       "      <th>ct_src_dport_ltm</th>\n",
       "      <th>ct_dst_sport_ltm</th>\n",
       "      <th>ct_dst_src_ltm</th>\n",
       "      <th>is_ftp_login</th>\n",
       "      <th>ct_ftp_cmd</th>\n",
       "      <th>ct_flw_http_mthd</th>\n",
       "      <th>ct_src_ltm</th>\n",
       "      <th>ct_srv_dst</th>\n",
       "      <th>is_sm_ips_ports</th>\n",
       "    </tr>\n",
       "  </thead>\n",
       "  <tbody>\n",
       "    <tr>\n",
       "      <th>count</th>\n",
       "      <td>257673.000000</td>\n",
       "      <td>257673.000000</td>\n",
       "      <td>257673.000000</td>\n",
       "      <td>2.576730e+05</td>\n",
       "      <td>2.576730e+05</td>\n",
       "      <td>2.576730e+05</td>\n",
       "      <td>257673.000000</td>\n",
       "      <td>257673.000000</td>\n",
       "      <td>2.576730e+05</td>\n",
       "      <td>2.576730e+05</td>\n",
       "      <td>...</td>\n",
       "      <td>257673.000000</td>\n",
       "      <td>257673.000000</td>\n",
       "      <td>257673.000000</td>\n",
       "      <td>257673.000000</td>\n",
       "      <td>257673.000000</td>\n",
       "      <td>257673.000000</td>\n",
       "      <td>257673.000000</td>\n",
       "      <td>257673.000000</td>\n",
       "      <td>257673.000000</td>\n",
       "      <td>257673.000000</td>\n",
       "    </tr>\n",
       "    <tr>\n",
       "      <th>mean</th>\n",
       "      <td>1.246715</td>\n",
       "      <td>19.777144</td>\n",
       "      <td>18.514703</td>\n",
       "      <td>8.572952e+03</td>\n",
       "      <td>1.438729e+04</td>\n",
       "      <td>9.125391e+04</td>\n",
       "      <td>180.000931</td>\n",
       "      <td>84.754957</td>\n",
       "      <td>7.060869e+07</td>\n",
       "      <td>6.582143e+05</td>\n",
       "      <td>...</td>\n",
       "      <td>6.050467</td>\n",
       "      <td>5.238271</td>\n",
       "      <td>4.032677</td>\n",
       "      <td>8.322964</td>\n",
       "      <td>0.012819</td>\n",
       "      <td>0.012850</td>\n",
       "      <td>0.132005</td>\n",
       "      <td>6.800045</td>\n",
       "      <td>9.121049</td>\n",
       "      <td>0.014274</td>\n",
       "    </tr>\n",
       "    <tr>\n",
       "      <th>std</th>\n",
       "      <td>5.974305</td>\n",
       "      <td>135.947152</td>\n",
       "      <td>111.985965</td>\n",
       "      <td>1.737739e+05</td>\n",
       "      <td>1.461993e+05</td>\n",
       "      <td>1.603446e+05</td>\n",
       "      <td>102.488268</td>\n",
       "      <td>112.762131</td>\n",
       "      <td>1.857313e+08</td>\n",
       "      <td>2.412372e+06</td>\n",
       "      <td>...</td>\n",
       "      <td>8.173749</td>\n",
       "      <td>8.160822</td>\n",
       "      <td>5.831515</td>\n",
       "      <td>11.120754</td>\n",
       "      <td>0.116091</td>\n",
       "      <td>0.116421</td>\n",
       "      <td>0.681854</td>\n",
       "      <td>8.396266</td>\n",
       "      <td>10.874752</td>\n",
       "      <td>0.118618</td>\n",
       "    </tr>\n",
       "    <tr>\n",
       "      <th>min</th>\n",
       "      <td>0.000000</td>\n",
       "      <td>1.000000</td>\n",
       "      <td>0.000000</td>\n",
       "      <td>2.400000e+01</td>\n",
       "      <td>0.000000e+00</td>\n",
       "      <td>0.000000e+00</td>\n",
       "      <td>0.000000</td>\n",
       "      <td>0.000000</td>\n",
       "      <td>0.000000e+00</td>\n",
       "      <td>0.000000e+00</td>\n",
       "      <td>...</td>\n",
       "      <td>1.000000</td>\n",
       "      <td>1.000000</td>\n",
       "      <td>1.000000</td>\n",
       "      <td>1.000000</td>\n",
       "      <td>0.000000</td>\n",
       "      <td>0.000000</td>\n",
       "      <td>0.000000</td>\n",
       "      <td>1.000000</td>\n",
       "      <td>1.000000</td>\n",
       "      <td>0.000000</td>\n",
       "    </tr>\n",
       "    <tr>\n",
       "      <th>25%</th>\n",
       "      <td>0.000008</td>\n",
       "      <td>2.000000</td>\n",
       "      <td>0.000000</td>\n",
       "      <td>1.140000e+02</td>\n",
       "      <td>0.000000e+00</td>\n",
       "      <td>3.078928e+01</td>\n",
       "      <td>62.000000</td>\n",
       "      <td>0.000000</td>\n",
       "      <td>1.231800e+04</td>\n",
       "      <td>0.000000e+00</td>\n",
       "      <td>...</td>\n",
       "      <td>1.000000</td>\n",
       "      <td>1.000000</td>\n",
       "      <td>1.000000</td>\n",
       "      <td>1.000000</td>\n",
       "      <td>0.000000</td>\n",
       "      <td>0.000000</td>\n",
       "      <td>0.000000</td>\n",
       "      <td>2.000000</td>\n",
       "      <td>2.000000</td>\n",
       "      <td>0.000000</td>\n",
       "    </tr>\n",
       "    <tr>\n",
       "      <th>50%</th>\n",
       "      <td>0.004285</td>\n",
       "      <td>4.000000</td>\n",
       "      <td>2.000000</td>\n",
       "      <td>5.280000e+02</td>\n",
       "      <td>1.780000e+02</td>\n",
       "      <td>2.955665e+03</td>\n",
       "      <td>254.000000</td>\n",
       "      <td>29.000000</td>\n",
       "      <td>7.439423e+05</td>\n",
       "      <td>1.747441e+03</td>\n",
       "      <td>...</td>\n",
       "      <td>2.000000</td>\n",
       "      <td>1.000000</td>\n",
       "      <td>1.000000</td>\n",
       "      <td>3.000000</td>\n",
       "      <td>0.000000</td>\n",
       "      <td>0.000000</td>\n",
       "      <td>0.000000</td>\n",
       "      <td>3.000000</td>\n",
       "      <td>4.000000</td>\n",
       "      <td>0.000000</td>\n",
       "    </tr>\n",
       "    <tr>\n",
       "      <th>75%</th>\n",
       "      <td>0.685777</td>\n",
       "      <td>12.000000</td>\n",
       "      <td>10.000000</td>\n",
       "      <td>1.362000e+03</td>\n",
       "      <td>1.064000e+03</td>\n",
       "      <td>1.250000e+05</td>\n",
       "      <td>254.000000</td>\n",
       "      <td>252.000000</td>\n",
       "      <td>8.000000e+07</td>\n",
       "      <td>2.210538e+04</td>\n",
       "      <td>...</td>\n",
       "      <td>6.000000</td>\n",
       "      <td>4.000000</td>\n",
       "      <td>3.000000</td>\n",
       "      <td>8.000000</td>\n",
       "      <td>0.000000</td>\n",
       "      <td>0.000000</td>\n",
       "      <td>0.000000</td>\n",
       "      <td>8.000000</td>\n",
       "      <td>11.000000</td>\n",
       "      <td>0.000000</td>\n",
       "    </tr>\n",
       "    <tr>\n",
       "      <th>max</th>\n",
       "      <td>59.999989</td>\n",
       "      <td>10646.000000</td>\n",
       "      <td>11018.000000</td>\n",
       "      <td>1.435577e+07</td>\n",
       "      <td>1.465753e+07</td>\n",
       "      <td>1.000000e+06</td>\n",
       "      <td>255.000000</td>\n",
       "      <td>254.000000</td>\n",
       "      <td>5.988000e+09</td>\n",
       "      <td>2.242273e+07</td>\n",
       "      <td>...</td>\n",
       "      <td>59.000000</td>\n",
       "      <td>59.000000</td>\n",
       "      <td>46.000000</td>\n",
       "      <td>65.000000</td>\n",
       "      <td>4.000000</td>\n",
       "      <td>4.000000</td>\n",
       "      <td>30.000000</td>\n",
       "      <td>60.000000</td>\n",
       "      <td>62.000000</td>\n",
       "      <td>1.000000</td>\n",
       "    </tr>\n",
       "  </tbody>\n",
       "</table>\n",
       "<p>8 rows × 39 columns</p>\n",
       "</div>"
      ],
      "text/plain": [
       "                 dur          spkts          dpkts        sbytes  \\\n",
       "count  257673.000000  257673.000000  257673.000000  2.576730e+05   \n",
       "mean        1.246715      19.777144      18.514703  8.572952e+03   \n",
       "std         5.974305     135.947152     111.985965  1.737739e+05   \n",
       "min         0.000000       1.000000       0.000000  2.400000e+01   \n",
       "25%         0.000008       2.000000       0.000000  1.140000e+02   \n",
       "50%         0.004285       4.000000       2.000000  5.280000e+02   \n",
       "75%         0.685777      12.000000      10.000000  1.362000e+03   \n",
       "max        59.999989   10646.000000   11018.000000  1.435577e+07   \n",
       "\n",
       "             dbytes          rate           sttl           dttl         sload  \\\n",
       "count  2.576730e+05  2.576730e+05  257673.000000  257673.000000  2.576730e+05   \n",
       "mean   1.438729e+04  9.125391e+04     180.000931      84.754957  7.060869e+07   \n",
       "std    1.461993e+05  1.603446e+05     102.488268     112.762131  1.857313e+08   \n",
       "min    0.000000e+00  0.000000e+00       0.000000       0.000000  0.000000e+00   \n",
       "25%    0.000000e+00  3.078928e+01      62.000000       0.000000  1.231800e+04   \n",
       "50%    1.780000e+02  2.955665e+03     254.000000      29.000000  7.439423e+05   \n",
       "75%    1.064000e+03  1.250000e+05     254.000000     252.000000  8.000000e+07   \n",
       "max    1.465753e+07  1.000000e+06     255.000000     254.000000  5.988000e+09   \n",
       "\n",
       "              dload  ...     ct_dst_ltm  ct_src_dport_ltm  ct_dst_sport_ltm  \\\n",
       "count  2.576730e+05  ...  257673.000000     257673.000000     257673.000000   \n",
       "mean   6.582143e+05  ...       6.050467          5.238271          4.032677   \n",
       "std    2.412372e+06  ...       8.173749          8.160822          5.831515   \n",
       "min    0.000000e+00  ...       1.000000          1.000000          1.000000   \n",
       "25%    0.000000e+00  ...       1.000000          1.000000          1.000000   \n",
       "50%    1.747441e+03  ...       2.000000          1.000000          1.000000   \n",
       "75%    2.210538e+04  ...       6.000000          4.000000          3.000000   \n",
       "max    2.242273e+07  ...      59.000000         59.000000         46.000000   \n",
       "\n",
       "       ct_dst_src_ltm   is_ftp_login     ct_ftp_cmd  ct_flw_http_mthd  \\\n",
       "count   257673.000000  257673.000000  257673.000000     257673.000000   \n",
       "mean         8.322964       0.012819       0.012850          0.132005   \n",
       "std         11.120754       0.116091       0.116421          0.681854   \n",
       "min          1.000000       0.000000       0.000000          0.000000   \n",
       "25%          1.000000       0.000000       0.000000          0.000000   \n",
       "50%          3.000000       0.000000       0.000000          0.000000   \n",
       "75%          8.000000       0.000000       0.000000          0.000000   \n",
       "max         65.000000       4.000000       4.000000         30.000000   \n",
       "\n",
       "          ct_src_ltm     ct_srv_dst  is_sm_ips_ports  \n",
       "count  257673.000000  257673.000000    257673.000000  \n",
       "mean        6.800045       9.121049         0.014274  \n",
       "std         8.396266      10.874752         0.118618  \n",
       "min         1.000000       1.000000         0.000000  \n",
       "25%         2.000000       2.000000         0.000000  \n",
       "50%         3.000000       4.000000         0.000000  \n",
       "75%         8.000000      11.000000         0.000000  \n",
       "max        60.000000      62.000000         1.000000  \n",
       "\n",
       "[8 rows x 39 columns]"
      ]
     },
     "execution_count": 6,
     "metadata": {},
     "output_type": "execute_result"
    }
   ],
   "source": [
    "df_numeric = df.select_dtypes(include=[np.number])\n",
    "df_numeric.describe(include='all')"
   ]
  },
  {
   "cell_type": "code",
   "execution_count": 7,
   "id": "ed0f4d42",
   "metadata": {},
   "outputs": [],
   "source": [
    "DEBUG =0\n",
    "\n",
    "for feature in df_numeric.columns:\n",
    "    if DEBUG == 1:\n",
    "        print(feature)\n",
    "        print('max = '+str(df_numeric[feature].max()))\n",
    "        print('75th = '+str(df_numeric[feature].quantile(0.95)))\n",
    "        print('median = '+str(df_numeric[feature].median()))\n",
    "        print(df_numeric[feature].max()>10*df_numeric[feature].median())\n",
    "        print('----------------------------------------------------')\n",
    "    if df_numeric[feature].max()>10*df_numeric[feature].median() and df_numeric[feature].max()>10 :\n",
    "        df[feature] = np.where(df[feature]<df[feature].quantile(0.95), df[feature], df[feature].quantile(0.95))"
   ]
  },
  {
   "cell_type": "markdown",
   "id": "4dd2dde9",
   "metadata": {},
   "source": [
    "## Apply log function to nearly all numeric, since they are all mostly skewed to the right"
   ]
  },
  {
   "cell_type": "markdown",
   "id": "7d5aae92",
   "metadata": {},
   "source": [
    "The extreme values should be pruned to reduce the skewness of some distributions. The logic applied here is that the features with a maximum value more than ten times the median value is pruned to the 95th percentile. If the 95th percentile is close to the maximum, then the tail has more interesting information than what we want to discard.\n",
    "\n",
    "The clamping is also only applied to features with a maximum of more than 10 times the median. This prevents the bimodals and small value distributions from being excessively pruned."
   ]
  },
  {
   "cell_type": "code",
   "execution_count": 8,
   "id": "f149b622",
   "metadata": {},
   "outputs": [],
   "source": [
    "df_numeric = df.select_dtypes(include=[np.number])\n",
    "df_before = df_numeric.copy()\n",
    "DEBUG = 0\n",
    "for feature in df_numeric.columns:\n",
    "    if DEBUG == 1:\n",
    "        print(feature)\n",
    "        print('nunique = '+str(df_numeric[feature].nunique()))\n",
    "        print(df_numeric[feature].nunique()>50)\n",
    "        print('----------------------------------------------------')\n",
    "    if df_numeric[feature].nunique()>50:\n",
    "        if df_numeric[feature].min()==0:\n",
    "            df[feature] = np.log(df[feature]+1)\n",
    "        else:\n",
    "            df[feature] = np.log(df[feature])\n",
    "\n",
    "df_numeric = df.select_dtypes(include=[np.number])"
   ]
  },
  {
   "cell_type": "markdown",
   "id": "00f50def",
   "metadata": {},
   "source": [
    "## Reduce the labels in categorical features"
   ]
  },
  {
   "cell_type": "code",
   "execution_count": 9,
   "id": "c157a194",
   "metadata": {},
   "outputs": [
    {
     "data": {
      "text/html": [
       "<div>\n",
       "<style scoped>\n",
       "    .dataframe tbody tr th:only-of-type {\n",
       "        vertical-align: middle;\n",
       "    }\n",
       "\n",
       "    .dataframe tbody tr th {\n",
       "        vertical-align: top;\n",
       "    }\n",
       "\n",
       "    .dataframe thead th {\n",
       "        text-align: right;\n",
       "    }\n",
       "</style>\n",
       "<table border=\"1\" class=\"dataframe\">\n",
       "  <thead>\n",
       "    <tr style=\"text-align: right;\">\n",
       "      <th></th>\n",
       "      <th>proto</th>\n",
       "      <th>service</th>\n",
       "      <th>state</th>\n",
       "      <th>attack_cat</th>\n",
       "    </tr>\n",
       "  </thead>\n",
       "  <tbody>\n",
       "    <tr>\n",
       "      <th>count</th>\n",
       "      <td>257673</td>\n",
       "      <td>257673</td>\n",
       "      <td>257673</td>\n",
       "      <td>257673</td>\n",
       "    </tr>\n",
       "    <tr>\n",
       "      <th>unique</th>\n",
       "      <td>133</td>\n",
       "      <td>13</td>\n",
       "      <td>11</td>\n",
       "      <td>10</td>\n",
       "    </tr>\n",
       "    <tr>\n",
       "      <th>top</th>\n",
       "      <td>tcp</td>\n",
       "      <td>-</td>\n",
       "      <td>FIN</td>\n",
       "      <td>Normal</td>\n",
       "    </tr>\n",
       "    <tr>\n",
       "      <th>freq</th>\n",
       "      <td>123041</td>\n",
       "      <td>141321</td>\n",
       "      <td>117164</td>\n",
       "      <td>93000</td>\n",
       "    </tr>\n",
       "  </tbody>\n",
       "</table>\n",
       "</div>"
      ],
      "text/plain": [
       "         proto service   state attack_cat\n",
       "count   257673  257673  257673     257673\n",
       "unique     133      13      11         10\n",
       "top        tcp       -     FIN     Normal\n",
       "freq    123041  141321  117164      93000"
      ]
     },
     "execution_count": 9,
     "metadata": {},
     "output_type": "execute_result"
    }
   ],
   "source": [
    "df_cat = df.select_dtypes(exclude=[np.number])\n",
    "df_cat.describe(include='all')"
   ]
  },
  {
   "cell_type": "code",
   "execution_count": 10,
   "id": "0bd3b4bc",
   "metadata": {},
   "outputs": [],
   "source": [
    "DEBUG = 0\n",
    "for feature in df_cat.columns:\n",
    "    if DEBUG == 1:\n",
    "        print(feature)\n",
    "        print('nunique = '+str(df_cat[feature].nunique()))\n",
    "        print(df_cat[feature].nunique()>11)\n",
    "        print(sum(df[feature].isin(df[feature].value_counts().head().index)))\n",
    "        print('----------------------------------------------------')\n",
    "    \n",
    "    if df_cat[feature].nunique()>11:\n",
    "        df[feature] = np.where(df[feature].isin(df[feature].value_counts().head().index), df[feature], '-')"
   ]
  },
  {
   "cell_type": "code",
   "execution_count": 11,
   "id": "7218d65e",
   "metadata": {},
   "outputs": [
    {
     "data": {
      "text/html": [
       "<div>\n",
       "<style scoped>\n",
       "    .dataframe tbody tr th:only-of-type {\n",
       "        vertical-align: middle;\n",
       "    }\n",
       "\n",
       "    .dataframe tbody tr th {\n",
       "        vertical-align: top;\n",
       "    }\n",
       "\n",
       "    .dataframe thead th {\n",
       "        text-align: right;\n",
       "    }\n",
       "</style>\n",
       "<table border=\"1\" class=\"dataframe\">\n",
       "  <thead>\n",
       "    <tr style=\"text-align: right;\">\n",
       "      <th></th>\n",
       "      <th>proto</th>\n",
       "      <th>service</th>\n",
       "      <th>state</th>\n",
       "      <th>attack_cat</th>\n",
       "    </tr>\n",
       "  </thead>\n",
       "  <tbody>\n",
       "    <tr>\n",
       "      <th>count</th>\n",
       "      <td>257673</td>\n",
       "      <td>257673</td>\n",
       "      <td>257673</td>\n",
       "      <td>257673</td>\n",
       "    </tr>\n",
       "    <tr>\n",
       "      <th>unique</th>\n",
       "      <td>6</td>\n",
       "      <td>5</td>\n",
       "      <td>11</td>\n",
       "      <td>10</td>\n",
       "    </tr>\n",
       "    <tr>\n",
       "      <th>top</th>\n",
       "      <td>tcp</td>\n",
       "      <td>-</td>\n",
       "      <td>FIN</td>\n",
       "      <td>Normal</td>\n",
       "    </tr>\n",
       "    <tr>\n",
       "      <th>freq</th>\n",
       "      <td>123041</td>\n",
       "      <td>149701</td>\n",
       "      <td>117164</td>\n",
       "      <td>93000</td>\n",
       "    </tr>\n",
       "  </tbody>\n",
       "</table>\n",
       "</div>"
      ],
      "text/plain": [
       "         proto service   state attack_cat\n",
       "count   257673  257673  257673     257673\n",
       "unique       6       5      11         10\n",
       "top        tcp       -     FIN     Normal\n",
       "freq    123041  149701  117164      93000"
      ]
     },
     "execution_count": 11,
     "metadata": {},
     "output_type": "execute_result"
    }
   ],
   "source": [
    "df_cat = df.select_dtypes(exclude=[np.number])\n",
    "df_cat.describe(include='all')"
   ]
  },
  {
   "cell_type": "code",
   "execution_count": 12,
   "id": "645dfe10",
   "metadata": {},
   "outputs": [
    {
     "data": {
      "application/vnd.plotly.v1+json": {
       "config": {
        "plotlyServerURL": "https://plot.ly"
       },
       "data": [
        {
         "orientation": "h",
         "type": "bar",
         "x": [
          2456.4234480279447,
          2474.3954515128867,
          3609.942529424358,
          4017.1816184406916,
          4025.1876990260284,
          4725.246952827186,
          15155.875886813865,
          15156.197926787074,
          29479.12522574208,
          52069.04651285502,
          55293.62756935257,
          59518.2279123361,
          120852.78447937439,
          143786.05725998664,
          149933.79276995495,
          154046.26278850663,
          195593.19987618874,
          201206.2896582252,
          252374.63799557943,
          271149.16227542766,
          300130.53499105247
         ],
         "y": [
          "ackdat",
          "synack",
          "smean",
          "ct_ftp_cmd",
          "is_ftp_login",
          "tcprtt",
          "trans_depth",
          "ct_flw_http_mthd",
          "sbytes",
          "ct_state_ttl",
          "response_body_len",
          "spkts",
          "sload",
          "dpkts",
          "sinpkt",
          "dinpkt",
          "rate",
          "djit",
          "sloss",
          "dmean",
          "sjit"
         ]
        }
       ],
       "layout": {
        "height": 1200,
        "showlegend": false,
        "template": {
         "data": {
          "bar": [
           {
            "error_x": {
             "color": "#2a3f5f"
            },
            "error_y": {
             "color": "#2a3f5f"
            },
            "marker": {
             "line": {
              "color": "#E5ECF6",
              "width": 0.5
             },
             "pattern": {
              "fillmode": "overlay",
              "size": 10,
              "solidity": 0.2
             }
            },
            "type": "bar"
           }
          ],
          "barpolar": [
           {
            "marker": {
             "line": {
              "color": "#E5ECF6",
              "width": 0.5
             },
             "pattern": {
              "fillmode": "overlay",
              "size": 10,
              "solidity": 0.2
             }
            },
            "type": "barpolar"
           }
          ],
          "carpet": [
           {
            "aaxis": {
             "endlinecolor": "#2a3f5f",
             "gridcolor": "white",
             "linecolor": "white",
             "minorgridcolor": "white",
             "startlinecolor": "#2a3f5f"
            },
            "baxis": {
             "endlinecolor": "#2a3f5f",
             "gridcolor": "white",
             "linecolor": "white",
             "minorgridcolor": "white",
             "startlinecolor": "#2a3f5f"
            },
            "type": "carpet"
           }
          ],
          "choropleth": [
           {
            "colorbar": {
             "outlinewidth": 0,
             "ticks": ""
            },
            "type": "choropleth"
           }
          ],
          "contour": [
           {
            "colorbar": {
             "outlinewidth": 0,
             "ticks": ""
            },
            "colorscale": [
             [
              0,
              "#0d0887"
             ],
             [
              0.1111111111111111,
              "#46039f"
             ],
             [
              0.2222222222222222,
              "#7201a8"
             ],
             [
              0.3333333333333333,
              "#9c179e"
             ],
             [
              0.4444444444444444,
              "#bd3786"
             ],
             [
              0.5555555555555556,
              "#d8576b"
             ],
             [
              0.6666666666666666,
              "#ed7953"
             ],
             [
              0.7777777777777778,
              "#fb9f3a"
             ],
             [
              0.8888888888888888,
              "#fdca26"
             ],
             [
              1,
              "#f0f921"
             ]
            ],
            "type": "contour"
           }
          ],
          "contourcarpet": [
           {
            "colorbar": {
             "outlinewidth": 0,
             "ticks": ""
            },
            "type": "contourcarpet"
           }
          ],
          "heatmap": [
           {
            "colorbar": {
             "outlinewidth": 0,
             "ticks": ""
            },
            "colorscale": [
             [
              0,
              "#0d0887"
             ],
             [
              0.1111111111111111,
              "#46039f"
             ],
             [
              0.2222222222222222,
              "#7201a8"
             ],
             [
              0.3333333333333333,
              "#9c179e"
             ],
             [
              0.4444444444444444,
              "#bd3786"
             ],
             [
              0.5555555555555556,
              "#d8576b"
             ],
             [
              0.6666666666666666,
              "#ed7953"
             ],
             [
              0.7777777777777778,
              "#fb9f3a"
             ],
             [
              0.8888888888888888,
              "#fdca26"
             ],
             [
              1,
              "#f0f921"
             ]
            ],
            "type": "heatmap"
           }
          ],
          "heatmapgl": [
           {
            "colorbar": {
             "outlinewidth": 0,
             "ticks": ""
            },
            "colorscale": [
             [
              0,
              "#0d0887"
             ],
             [
              0.1111111111111111,
              "#46039f"
             ],
             [
              0.2222222222222222,
              "#7201a8"
             ],
             [
              0.3333333333333333,
              "#9c179e"
             ],
             [
              0.4444444444444444,
              "#bd3786"
             ],
             [
              0.5555555555555556,
              "#d8576b"
             ],
             [
              0.6666666666666666,
              "#ed7953"
             ],
             [
              0.7777777777777778,
              "#fb9f3a"
             ],
             [
              0.8888888888888888,
              "#fdca26"
             ],
             [
              1,
              "#f0f921"
             ]
            ],
            "type": "heatmapgl"
           }
          ],
          "histogram": [
           {
            "marker": {
             "pattern": {
              "fillmode": "overlay",
              "size": 10,
              "solidity": 0.2
             }
            },
            "type": "histogram"
           }
          ],
          "histogram2d": [
           {
            "colorbar": {
             "outlinewidth": 0,
             "ticks": ""
            },
            "colorscale": [
             [
              0,
              "#0d0887"
             ],
             [
              0.1111111111111111,
              "#46039f"
             ],
             [
              0.2222222222222222,
              "#7201a8"
             ],
             [
              0.3333333333333333,
              "#9c179e"
             ],
             [
              0.4444444444444444,
              "#bd3786"
             ],
             [
              0.5555555555555556,
              "#d8576b"
             ],
             [
              0.6666666666666666,
              "#ed7953"
             ],
             [
              0.7777777777777778,
              "#fb9f3a"
             ],
             [
              0.8888888888888888,
              "#fdca26"
             ],
             [
              1,
              "#f0f921"
             ]
            ],
            "type": "histogram2d"
           }
          ],
          "histogram2dcontour": [
           {
            "colorbar": {
             "outlinewidth": 0,
             "ticks": ""
            },
            "colorscale": [
             [
              0,
              "#0d0887"
             ],
             [
              0.1111111111111111,
              "#46039f"
             ],
             [
              0.2222222222222222,
              "#7201a8"
             ],
             [
              0.3333333333333333,
              "#9c179e"
             ],
             [
              0.4444444444444444,
              "#bd3786"
             ],
             [
              0.5555555555555556,
              "#d8576b"
             ],
             [
              0.6666666666666666,
              "#ed7953"
             ],
             [
              0.7777777777777778,
              "#fb9f3a"
             ],
             [
              0.8888888888888888,
              "#fdca26"
             ],
             [
              1,
              "#f0f921"
             ]
            ],
            "type": "histogram2dcontour"
           }
          ],
          "mesh3d": [
           {
            "colorbar": {
             "outlinewidth": 0,
             "ticks": ""
            },
            "type": "mesh3d"
           }
          ],
          "parcoords": [
           {
            "line": {
             "colorbar": {
              "outlinewidth": 0,
              "ticks": ""
             }
            },
            "type": "parcoords"
           }
          ],
          "pie": [
           {
            "automargin": true,
            "type": "pie"
           }
          ],
          "scatter": [
           {
            "fillpattern": {
             "fillmode": "overlay",
             "size": 10,
             "solidity": 0.2
            },
            "type": "scatter"
           }
          ],
          "scatter3d": [
           {
            "line": {
             "colorbar": {
              "outlinewidth": 0,
              "ticks": ""
             }
            },
            "marker": {
             "colorbar": {
              "outlinewidth": 0,
              "ticks": ""
             }
            },
            "type": "scatter3d"
           }
          ],
          "scattercarpet": [
           {
            "marker": {
             "colorbar": {
              "outlinewidth": 0,
              "ticks": ""
             }
            },
            "type": "scattercarpet"
           }
          ],
          "scattergeo": [
           {
            "marker": {
             "colorbar": {
              "outlinewidth": 0,
              "ticks": ""
             }
            },
            "type": "scattergeo"
           }
          ],
          "scattergl": [
           {
            "marker": {
             "colorbar": {
              "outlinewidth": 0,
              "ticks": ""
             }
            },
            "type": "scattergl"
           }
          ],
          "scattermapbox": [
           {
            "marker": {
             "colorbar": {
              "outlinewidth": 0,
              "ticks": ""
             }
            },
            "type": "scattermapbox"
           }
          ],
          "scatterpolar": [
           {
            "marker": {
             "colorbar": {
              "outlinewidth": 0,
              "ticks": ""
             }
            },
            "type": "scatterpolar"
           }
          ],
          "scatterpolargl": [
           {
            "marker": {
             "colorbar": {
              "outlinewidth": 0,
              "ticks": ""
             }
            },
            "type": "scatterpolargl"
           }
          ],
          "scatterternary": [
           {
            "marker": {
             "colorbar": {
              "outlinewidth": 0,
              "ticks": ""
             }
            },
            "type": "scatterternary"
           }
          ],
          "surface": [
           {
            "colorbar": {
             "outlinewidth": 0,
             "ticks": ""
            },
            "colorscale": [
             [
              0,
              "#0d0887"
             ],
             [
              0.1111111111111111,
              "#46039f"
             ],
             [
              0.2222222222222222,
              "#7201a8"
             ],
             [
              0.3333333333333333,
              "#9c179e"
             ],
             [
              0.4444444444444444,
              "#bd3786"
             ],
             [
              0.5555555555555556,
              "#d8576b"
             ],
             [
              0.6666666666666666,
              "#ed7953"
             ],
             [
              0.7777777777777778,
              "#fb9f3a"
             ],
             [
              0.8888888888888888,
              "#fdca26"
             ],
             [
              1,
              "#f0f921"
             ]
            ],
            "type": "surface"
           }
          ],
          "table": [
           {
            "cells": {
             "fill": {
              "color": "#EBF0F8"
             },
             "line": {
              "color": "white"
             }
            },
            "header": {
             "fill": {
              "color": "#C8D4E3"
             },
             "line": {
              "color": "white"
             }
            },
            "type": "table"
           }
          ]
         },
         "layout": {
          "annotationdefaults": {
           "arrowcolor": "#2a3f5f",
           "arrowhead": 0,
           "arrowwidth": 1
          },
          "autotypenumbers": "strict",
          "coloraxis": {
           "colorbar": {
            "outlinewidth": 0,
            "ticks": ""
           }
          },
          "colorscale": {
           "diverging": [
            [
             0,
             "#8e0152"
            ],
            [
             0.1,
             "#c51b7d"
            ],
            [
             0.2,
             "#de77ae"
            ],
            [
             0.3,
             "#f1b6da"
            ],
            [
             0.4,
             "#fde0ef"
            ],
            [
             0.5,
             "#f7f7f7"
            ],
            [
             0.6,
             "#e6f5d0"
            ],
            [
             0.7,
             "#b8e186"
            ],
            [
             0.8,
             "#7fbc41"
            ],
            [
             0.9,
             "#4d9221"
            ],
            [
             1,
             "#276419"
            ]
           ],
           "sequential": [
            [
             0,
             "#0d0887"
            ],
            [
             0.1111111111111111,
             "#46039f"
            ],
            [
             0.2222222222222222,
             "#7201a8"
            ],
            [
             0.3333333333333333,
             "#9c179e"
            ],
            [
             0.4444444444444444,
             "#bd3786"
            ],
            [
             0.5555555555555556,
             "#d8576b"
            ],
            [
             0.6666666666666666,
             "#ed7953"
            ],
            [
             0.7777777777777778,
             "#fb9f3a"
            ],
            [
             0.8888888888888888,
             "#fdca26"
            ],
            [
             1,
             "#f0f921"
            ]
           ],
           "sequentialminus": [
            [
             0,
             "#0d0887"
            ],
            [
             0.1111111111111111,
             "#46039f"
            ],
            [
             0.2222222222222222,
             "#7201a8"
            ],
            [
             0.3333333333333333,
             "#9c179e"
            ],
            [
             0.4444444444444444,
             "#bd3786"
            ],
            [
             0.5555555555555556,
             "#d8576b"
            ],
            [
             0.6666666666666666,
             "#ed7953"
            ],
            [
             0.7777777777777778,
             "#fb9f3a"
            ],
            [
             0.8888888888888888,
             "#fdca26"
            ],
            [
             1,
             "#f0f921"
            ]
           ]
          },
          "colorway": [
           "#636efa",
           "#EF553B",
           "#00cc96",
           "#ab63fa",
           "#FFA15A",
           "#19d3f3",
           "#FF6692",
           "#B6E880",
           "#FF97FF",
           "#FECB52"
          ],
          "font": {
           "color": "#2a3f5f"
          },
          "geo": {
           "bgcolor": "white",
           "lakecolor": "white",
           "landcolor": "#E5ECF6",
           "showlakes": true,
           "showland": true,
           "subunitcolor": "white"
          },
          "hoverlabel": {
           "align": "left"
          },
          "hovermode": "closest",
          "mapbox": {
           "style": "light"
          },
          "paper_bgcolor": "white",
          "plot_bgcolor": "#E5ECF6",
          "polar": {
           "angularaxis": {
            "gridcolor": "white",
            "linecolor": "white",
            "ticks": ""
           },
           "bgcolor": "#E5ECF6",
           "radialaxis": {
            "gridcolor": "white",
            "linecolor": "white",
            "ticks": ""
           }
          },
          "scene": {
           "xaxis": {
            "backgroundcolor": "#E5ECF6",
            "gridcolor": "white",
            "gridwidth": 2,
            "linecolor": "white",
            "showbackground": true,
            "ticks": "",
            "zerolinecolor": "white"
           },
           "yaxis": {
            "backgroundcolor": "#E5ECF6",
            "gridcolor": "white",
            "gridwidth": 2,
            "linecolor": "white",
            "showbackground": true,
            "ticks": "",
            "zerolinecolor": "white"
           },
           "zaxis": {
            "backgroundcolor": "#E5ECF6",
            "gridcolor": "white",
            "gridwidth": 2,
            "linecolor": "white",
            "showbackground": true,
            "ticks": "",
            "zerolinecolor": "white"
           }
          },
          "shapedefaults": {
           "line": {
            "color": "#2a3f5f"
           }
          },
          "ternary": {
           "aaxis": {
            "gridcolor": "white",
            "linecolor": "white",
            "ticks": ""
           },
           "baxis": {
            "gridcolor": "white",
            "linecolor": "white",
            "ticks": ""
           },
           "bgcolor": "#E5ECF6",
           "caxis": {
            "gridcolor": "white",
            "linecolor": "white",
            "ticks": ""
           }
          },
          "title": {
           "x": 0.05
          },
          "xaxis": {
           "automargin": true,
           "gridcolor": "white",
           "linecolor": "white",
           "ticks": "",
           "title": {
            "standoff": 15
           },
           "zerolinecolor": "white",
           "zerolinewidth": 2
          },
          "yaxis": {
           "automargin": true,
           "gridcolor": "white",
           "linecolor": "white",
           "ticks": "",
           "title": {
            "standoff": 15
           },
           "zerolinecolor": "white",
           "zerolinewidth": 2
          }
         }
        },
        "title": {
         "text": "Top 20 Features"
        }
       }
      }
     },
     "metadata": {},
     "output_type": "display_data"
    }
   ],
   "source": [
    "# Feature Selection\n",
    "from sklearn.feature_selection import SelectKBest, chi2\n",
    "\n",
    "best_features = SelectKBest(score_func=chi2,k='all')\n",
    "\n",
    "X = df.iloc[:,4:-2]\n",
    "y = df.iloc[:,-1]\n",
    "fit = best_features.fit(X,y)\n",
    "\n",
    "df_scores=pd.DataFrame(fit.scores_)\n",
    "df_col=pd.DataFrame(X.columns)\n",
    "\n",
    "feature_score=pd.concat([df_col,df_scores],axis=1)\n",
    "feature_score.columns=['feature','score']\n",
    "feature_score.sort_values(by=['score'],ascending=True,inplace=True)\n",
    "\n",
    "fig = go.Figure(go.Bar(\n",
    "            x=feature_score['score'][0:21],\n",
    "            y=feature_score['feature'][0:21],\n",
    "            orientation='h'))\n",
    "\n",
    "fig.update_layout(title=\"Top 20 Features\",\n",
    "                  height=1200,\n",
    "                  showlegend=False,\n",
    "                 )\n",
    "\n",
    "fig.show()"
   ]
  },
  {
   "cell_type": "markdown",
   "id": "456a9e20",
   "metadata": {},
   "source": [
    "## Encode categorical features"
   ]
  },
  {
   "cell_type": "markdown",
   "id": "6c765e5d",
   "metadata": {},
   "source": [
    "The categorical features must be encoded to ensure that the models can interpret them. One-hot encoding is used since none of the categorical features are ordinal."
   ]
  },
  {
   "cell_type": "code",
   "execution_count": 13,
   "id": "a25809ae",
   "metadata": {},
   "outputs": [
    {
     "data": {
      "text/html": [
       "<div>\n",
       "<style scoped>\n",
       "    .dataframe tbody tr th:only-of-type {\n",
       "        vertical-align: middle;\n",
       "    }\n",
       "\n",
       "    .dataframe tbody tr th {\n",
       "        vertical-align: top;\n",
       "    }\n",
       "\n",
       "    .dataframe thead th {\n",
       "        text-align: right;\n",
       "    }\n",
       "</style>\n",
       "<table border=\"1\" class=\"dataframe\">\n",
       "  <thead>\n",
       "    <tr style=\"text-align: right;\">\n",
       "      <th></th>\n",
       "      <th>dur</th>\n",
       "      <th>proto</th>\n",
       "      <th>service</th>\n",
       "      <th>state</th>\n",
       "      <th>spkts</th>\n",
       "      <th>dpkts</th>\n",
       "      <th>sbytes</th>\n",
       "      <th>dbytes</th>\n",
       "      <th>rate</th>\n",
       "      <th>sttl</th>\n",
       "      <th>...</th>\n",
       "      <th>ct_src_dport_ltm</th>\n",
       "      <th>ct_dst_sport_ltm</th>\n",
       "      <th>ct_dst_src_ltm</th>\n",
       "      <th>is_ftp_login</th>\n",
       "      <th>ct_ftp_cmd</th>\n",
       "      <th>ct_flw_http_mthd</th>\n",
       "      <th>ct_src_ltm</th>\n",
       "      <th>ct_srv_dst</th>\n",
       "      <th>is_sm_ips_ports</th>\n",
       "      <th>attack_cat</th>\n",
       "    </tr>\n",
       "  </thead>\n",
       "  <tbody>\n",
       "    <tr>\n",
       "      <th>0</th>\n",
       "      <td>0.000011</td>\n",
       "      <td>udp</td>\n",
       "      <td>-</td>\n",
       "      <td>INT</td>\n",
       "      <td>0.693147</td>\n",
       "      <td>0.000000</td>\n",
       "      <td>6.206576</td>\n",
       "      <td>0.000000</td>\n",
       "      <td>11.417626</td>\n",
       "      <td>254</td>\n",
       "      <td>...</td>\n",
       "      <td>1.0</td>\n",
       "      <td>1.0</td>\n",
       "      <td>2.0</td>\n",
       "      <td>0</td>\n",
       "      <td>0</td>\n",
       "      <td>0.0</td>\n",
       "      <td>1.0</td>\n",
       "      <td>2.0</td>\n",
       "      <td>0</td>\n",
       "      <td>Normal</td>\n",
       "    </tr>\n",
       "    <tr>\n",
       "      <th>1</th>\n",
       "      <td>0.000008</td>\n",
       "      <td>udp</td>\n",
       "      <td>-</td>\n",
       "      <td>INT</td>\n",
       "      <td>0.693147</td>\n",
       "      <td>0.000000</td>\n",
       "      <td>7.474205</td>\n",
       "      <td>0.000000</td>\n",
       "      <td>11.736077</td>\n",
       "      <td>254</td>\n",
       "      <td>...</td>\n",
       "      <td>1.0</td>\n",
       "      <td>1.0</td>\n",
       "      <td>2.0</td>\n",
       "      <td>0</td>\n",
       "      <td>0</td>\n",
       "      <td>0.0</td>\n",
       "      <td>1.0</td>\n",
       "      <td>2.0</td>\n",
       "      <td>0</td>\n",
       "      <td>Normal</td>\n",
       "    </tr>\n",
       "    <tr>\n",
       "      <th>2</th>\n",
       "      <td>0.000005</td>\n",
       "      <td>udp</td>\n",
       "      <td>-</td>\n",
       "      <td>INT</td>\n",
       "      <td>0.693147</td>\n",
       "      <td>0.000000</td>\n",
       "      <td>6.973543</td>\n",
       "      <td>0.000000</td>\n",
       "      <td>12.206078</td>\n",
       "      <td>254</td>\n",
       "      <td>...</td>\n",
       "      <td>1.0</td>\n",
       "      <td>1.0</td>\n",
       "      <td>3.0</td>\n",
       "      <td>0</td>\n",
       "      <td>0</td>\n",
       "      <td>0.0</td>\n",
       "      <td>1.0</td>\n",
       "      <td>3.0</td>\n",
       "      <td>0</td>\n",
       "      <td>Normal</td>\n",
       "    </tr>\n",
       "    <tr>\n",
       "      <th>3</th>\n",
       "      <td>0.000006</td>\n",
       "      <td>udp</td>\n",
       "      <td>-</td>\n",
       "      <td>INT</td>\n",
       "      <td>0.693147</td>\n",
       "      <td>0.000000</td>\n",
       "      <td>6.802395</td>\n",
       "      <td>0.000000</td>\n",
       "      <td>12.023757</td>\n",
       "      <td>254</td>\n",
       "      <td>...</td>\n",
       "      <td>2.0</td>\n",
       "      <td>1.0</td>\n",
       "      <td>3.0</td>\n",
       "      <td>0</td>\n",
       "      <td>0</td>\n",
       "      <td>0.0</td>\n",
       "      <td>2.0</td>\n",
       "      <td>3.0</td>\n",
       "      <td>0</td>\n",
       "      <td>Normal</td>\n",
       "    </tr>\n",
       "    <tr>\n",
       "      <th>4</th>\n",
       "      <td>0.000010</td>\n",
       "      <td>udp</td>\n",
       "      <td>-</td>\n",
       "      <td>INT</td>\n",
       "      <td>0.693147</td>\n",
       "      <td>0.000000</td>\n",
       "      <td>7.661998</td>\n",
       "      <td>0.000000</td>\n",
       "      <td>11.512935</td>\n",
       "      <td>254</td>\n",
       "      <td>...</td>\n",
       "      <td>2.0</td>\n",
       "      <td>1.0</td>\n",
       "      <td>3.0</td>\n",
       "      <td>0</td>\n",
       "      <td>0</td>\n",
       "      <td>0.0</td>\n",
       "      <td>2.0</td>\n",
       "      <td>3.0</td>\n",
       "      <td>0</td>\n",
       "      <td>Normal</td>\n",
       "    </tr>\n",
       "    <tr>\n",
       "      <th>...</th>\n",
       "      <td>...</td>\n",
       "      <td>...</td>\n",
       "      <td>...</td>\n",
       "      <td>...</td>\n",
       "      <td>...</td>\n",
       "      <td>...</td>\n",
       "      <td>...</td>\n",
       "      <td>...</td>\n",
       "      <td>...</td>\n",
       "      <td>...</td>\n",
       "      <td>...</td>\n",
       "      <td>...</td>\n",
       "      <td>...</td>\n",
       "      <td>...</td>\n",
       "      <td>...</td>\n",
       "      <td>...</td>\n",
       "      <td>...</td>\n",
       "      <td>...</td>\n",
       "      <td>...</td>\n",
       "      <td>...</td>\n",
       "      <td>...</td>\n",
       "    </tr>\n",
       "    <tr>\n",
       "      <th>175336</th>\n",
       "      <td>0.000009</td>\n",
       "      <td>udp</td>\n",
       "      <td>dns</td>\n",
       "      <td>INT</td>\n",
       "      <td>0.693147</td>\n",
       "      <td>0.000000</td>\n",
       "      <td>4.736198</td>\n",
       "      <td>0.000000</td>\n",
       "      <td>11.618295</td>\n",
       "      <td>254</td>\n",
       "      <td>...</td>\n",
       "      <td>24.0</td>\n",
       "      <td>13.0</td>\n",
       "      <td>24.0</td>\n",
       "      <td>0</td>\n",
       "      <td>0</td>\n",
       "      <td>0.0</td>\n",
       "      <td>24.0</td>\n",
       "      <td>24.0</td>\n",
       "      <td>0</td>\n",
       "      <td>Generic</td>\n",
       "    </tr>\n",
       "    <tr>\n",
       "      <th>175337</th>\n",
       "      <td>0.409299</td>\n",
       "      <td>tcp</td>\n",
       "      <td>-</td>\n",
       "      <td>FIN</td>\n",
       "      <td>2.302585</td>\n",
       "      <td>2.197225</td>\n",
       "      <td>6.429719</td>\n",
       "      <td>5.872118</td>\n",
       "      <td>3.544219</td>\n",
       "      <td>254</td>\n",
       "      <td>...</td>\n",
       "      <td>1.0</td>\n",
       "      <td>1.0</td>\n",
       "      <td>2.0</td>\n",
       "      <td>0</td>\n",
       "      <td>0</td>\n",
       "      <td>0.0</td>\n",
       "      <td>1.0</td>\n",
       "      <td>1.0</td>\n",
       "      <td>0</td>\n",
       "      <td>Shellcode</td>\n",
       "    </tr>\n",
       "    <tr>\n",
       "      <th>175338</th>\n",
       "      <td>0.000009</td>\n",
       "      <td>udp</td>\n",
       "      <td>dns</td>\n",
       "      <td>INT</td>\n",
       "      <td>0.693147</td>\n",
       "      <td>0.000000</td>\n",
       "      <td>4.736198</td>\n",
       "      <td>0.000000</td>\n",
       "      <td>11.618295</td>\n",
       "      <td>254</td>\n",
       "      <td>...</td>\n",
       "      <td>3.0</td>\n",
       "      <td>3.0</td>\n",
       "      <td>13.0</td>\n",
       "      <td>0</td>\n",
       "      <td>0</td>\n",
       "      <td>0.0</td>\n",
       "      <td>3.0</td>\n",
       "      <td>12.0</td>\n",
       "      <td>0</td>\n",
       "      <td>Generic</td>\n",
       "    </tr>\n",
       "    <tr>\n",
       "      <th>175339</th>\n",
       "      <td>0.000009</td>\n",
       "      <td>udp</td>\n",
       "      <td>dns</td>\n",
       "      <td>INT</td>\n",
       "      <td>0.693147</td>\n",
       "      <td>0.000000</td>\n",
       "      <td>4.736198</td>\n",
       "      <td>0.000000</td>\n",
       "      <td>11.618295</td>\n",
       "      <td>254</td>\n",
       "      <td>...</td>\n",
       "      <td>25.0</td>\n",
       "      <td>14.0</td>\n",
       "      <td>30.0</td>\n",
       "      <td>0</td>\n",
       "      <td>0</td>\n",
       "      <td>0.0</td>\n",
       "      <td>25.0</td>\n",
       "      <td>30.0</td>\n",
       "      <td>0</td>\n",
       "      <td>Generic</td>\n",
       "    </tr>\n",
       "    <tr>\n",
       "      <th>175340</th>\n",
       "      <td>0.000009</td>\n",
       "      <td>udp</td>\n",
       "      <td>dns</td>\n",
       "      <td>INT</td>\n",
       "      <td>0.693147</td>\n",
       "      <td>0.000000</td>\n",
       "      <td>4.736198</td>\n",
       "      <td>0.000000</td>\n",
       "      <td>11.618295</td>\n",
       "      <td>254</td>\n",
       "      <td>...</td>\n",
       "      <td>25.0</td>\n",
       "      <td>16.0</td>\n",
       "      <td>30.0</td>\n",
       "      <td>0</td>\n",
       "      <td>0</td>\n",
       "      <td>0.0</td>\n",
       "      <td>25.0</td>\n",
       "      <td>30.0</td>\n",
       "      <td>0</td>\n",
       "      <td>Generic</td>\n",
       "    </tr>\n",
       "  </tbody>\n",
       "</table>\n",
       "<p>257673 rows × 43 columns</p>\n",
       "</div>"
      ],
      "text/plain": [
       "             dur proto service state     spkts     dpkts    sbytes    dbytes  \\\n",
       "0       0.000011   udp       -   INT  0.693147  0.000000  6.206576  0.000000   \n",
       "1       0.000008   udp       -   INT  0.693147  0.000000  7.474205  0.000000   \n",
       "2       0.000005   udp       -   INT  0.693147  0.000000  6.973543  0.000000   \n",
       "3       0.000006   udp       -   INT  0.693147  0.000000  6.802395  0.000000   \n",
       "4       0.000010   udp       -   INT  0.693147  0.000000  7.661998  0.000000   \n",
       "...          ...   ...     ...   ...       ...       ...       ...       ...   \n",
       "175336  0.000009   udp     dns   INT  0.693147  0.000000  4.736198  0.000000   \n",
       "175337  0.409299   tcp       -   FIN  2.302585  2.197225  6.429719  5.872118   \n",
       "175338  0.000009   udp     dns   INT  0.693147  0.000000  4.736198  0.000000   \n",
       "175339  0.000009   udp     dns   INT  0.693147  0.000000  4.736198  0.000000   \n",
       "175340  0.000009   udp     dns   INT  0.693147  0.000000  4.736198  0.000000   \n",
       "\n",
       "             rate  sttl  ...  ct_src_dport_ltm  ct_dst_sport_ltm  \\\n",
       "0       11.417626   254  ...               1.0               1.0   \n",
       "1       11.736077   254  ...               1.0               1.0   \n",
       "2       12.206078   254  ...               1.0               1.0   \n",
       "3       12.023757   254  ...               2.0               1.0   \n",
       "4       11.512935   254  ...               2.0               1.0   \n",
       "...           ...   ...  ...               ...               ...   \n",
       "175336  11.618295   254  ...              24.0              13.0   \n",
       "175337   3.544219   254  ...               1.0               1.0   \n",
       "175338  11.618295   254  ...               3.0               3.0   \n",
       "175339  11.618295   254  ...              25.0              14.0   \n",
       "175340  11.618295   254  ...              25.0              16.0   \n",
       "\n",
       "        ct_dst_src_ltm  is_ftp_login  ct_ftp_cmd  ct_flw_http_mthd  \\\n",
       "0                  2.0             0           0               0.0   \n",
       "1                  2.0             0           0               0.0   \n",
       "2                  3.0             0           0               0.0   \n",
       "3                  3.0             0           0               0.0   \n",
       "4                  3.0             0           0               0.0   \n",
       "...                ...           ...         ...               ...   \n",
       "175336            24.0             0           0               0.0   \n",
       "175337             2.0             0           0               0.0   \n",
       "175338            13.0             0           0               0.0   \n",
       "175339            30.0             0           0               0.0   \n",
       "175340            30.0             0           0               0.0   \n",
       "\n",
       "        ct_src_ltm  ct_srv_dst  is_sm_ips_ports  attack_cat  \n",
       "0              1.0         2.0                0      Normal  \n",
       "1              1.0         2.0                0      Normal  \n",
       "2              1.0         3.0                0      Normal  \n",
       "3              2.0         3.0                0      Normal  \n",
       "4              2.0         3.0                0      Normal  \n",
       "...            ...         ...              ...         ...  \n",
       "175336        24.0        24.0                0     Generic  \n",
       "175337         1.0         1.0                0   Shellcode  \n",
       "175338         3.0        12.0                0     Generic  \n",
       "175339        25.0        30.0                0     Generic  \n",
       "175340        25.0        30.0                0     Generic  \n",
       "\n",
       "[257673 rows x 43 columns]"
      ]
     },
     "execution_count": 13,
     "metadata": {},
     "output_type": "execute_result"
    }
   ],
   "source": [
    "df"
   ]
  },
  {
   "cell_type": "code",
   "execution_count": 14,
   "id": "4174fb45",
   "metadata": {},
   "outputs": [],
   "source": [
    "X = df.iloc[:,:-1]\n",
    "y = df.iloc[:,-1]"
   ]
  },
  {
   "cell_type": "code",
   "execution_count": 15,
   "id": "42d40312",
   "metadata": {},
   "outputs": [
    {
     "data": {
      "text/plain": [
       "(257673, 42)"
      ]
     },
     "execution_count": 15,
     "metadata": {},
     "output_type": "execute_result"
    }
   ],
   "source": [
    "X.head()\n",
    "feature_names = list(X.columns)\n",
    "np.shape(X)"
   ]
  },
  {
   "cell_type": "code",
   "execution_count": 16,
   "id": "b65c7b17",
   "metadata": {},
   "outputs": [],
   "source": [
    "from sklearn.compose import ColumnTransformer\n",
    "from sklearn.preprocessing import OneHotEncoder\n",
    "ct = ColumnTransformer(transformers=[('encoder', OneHotEncoder(), [1,2,3])], remainder='passthrough')\n",
    "X = ct.fit_transform(X)"
   ]
  },
  {
   "cell_type": "code",
   "execution_count": 17,
   "id": "62992cc8",
   "metadata": {},
   "outputs": [
    {
     "data": {
      "text/plain": [
       "(257673, 61)"
      ]
     },
     "execution_count": 17,
     "metadata": {},
     "output_type": "execute_result"
    }
   ],
   "source": [
    "np.shape(X)"
   ]
  },
  {
   "cell_type": "code",
   "execution_count": 18,
   "id": "760c5585",
   "metadata": {},
   "outputs": [
    {
     "data": {
      "text/plain": [
       "42"
      ]
     },
     "execution_count": 18,
     "metadata": {},
     "output_type": "execute_result"
    }
   ],
   "source": [
    "len(feature_names)"
   ]
  },
  {
   "cell_type": "code",
   "execution_count": 19,
   "id": "d0e0d634",
   "metadata": {},
   "outputs": [],
   "source": [
    "for label in list(df_cat['state'].value_counts().index)[::-1][1:]:\n",
    "    feature_names.insert(0,label)\n",
    "    \n",
    "for label in list(df_cat['service'].value_counts().index)[::-1][1:]:\n",
    "    feature_names.insert(0,label)\n",
    "    \n",
    "for label in list(df_cat['proto'].value_counts().index)[::-1][1:]:\n",
    "    feature_names.insert(0,label)"
   ]
  },
  {
   "cell_type": "code",
   "execution_count": 20,
   "id": "53333836",
   "metadata": {},
   "outputs": [
    {
     "data": {
      "text/plain": [
       "61"
      ]
     },
     "execution_count": 20,
     "metadata": {},
     "output_type": "execute_result"
    }
   ],
   "source": [
    "len(feature_names)"
   ]
  },
  {
   "cell_type": "markdown",
   "id": "6e8daf51",
   "metadata": {},
   "source": [
    "## Train/Test Split"
   ]
  },
  {
   "cell_type": "code",
   "execution_count": 21,
   "id": "d05b6438",
   "metadata": {},
   "outputs": [],
   "source": [
    "from sklearn.model_selection import train_test_split\n",
    "X_train, X_test, y_train, y_test = train_test_split(X, y, \n",
    "                                                    test_size = 0.2, \n",
    "                                                    random_state = 0,\n",
    "                                                    stratify=y)"
   ]
  },
  {
   "cell_type": "code",
   "execution_count": 22,
   "id": "d0ca82f7",
   "metadata": {},
   "outputs": [
    {
     "data": {
      "text/html": [
       "<div>\n",
       "<style scoped>\n",
       "    .dataframe tbody tr th:only-of-type {\n",
       "        vertical-align: middle;\n",
       "    }\n",
       "\n",
       "    .dataframe tbody tr th {\n",
       "        vertical-align: top;\n",
       "    }\n",
       "\n",
       "    .dataframe thead th {\n",
       "        text-align: right;\n",
       "    }\n",
       "</style>\n",
       "<table border=\"1\" class=\"dataframe\">\n",
       "  <thead>\n",
       "    <tr style=\"text-align: right;\">\n",
       "      <th></th>\n",
       "      <th>proto</th>\n",
       "      <th>service</th>\n",
       "      <th>state</th>\n",
       "      <th>attack_cat</th>\n",
       "    </tr>\n",
       "  </thead>\n",
       "  <tbody>\n",
       "    <tr>\n",
       "      <th>count</th>\n",
       "      <td>257673</td>\n",
       "      <td>257673</td>\n",
       "      <td>257673</td>\n",
       "      <td>257673</td>\n",
       "    </tr>\n",
       "    <tr>\n",
       "      <th>unique</th>\n",
       "      <td>6</td>\n",
       "      <td>5</td>\n",
       "      <td>11</td>\n",
       "      <td>10</td>\n",
       "    </tr>\n",
       "    <tr>\n",
       "      <th>top</th>\n",
       "      <td>tcp</td>\n",
       "      <td>-</td>\n",
       "      <td>FIN</td>\n",
       "      <td>Normal</td>\n",
       "    </tr>\n",
       "    <tr>\n",
       "      <th>freq</th>\n",
       "      <td>123041</td>\n",
       "      <td>149701</td>\n",
       "      <td>117164</td>\n",
       "      <td>93000</td>\n",
       "    </tr>\n",
       "  </tbody>\n",
       "</table>\n",
       "</div>"
      ],
      "text/plain": [
       "         proto service   state attack_cat\n",
       "count   257673  257673  257673     257673\n",
       "unique       6       5      11         10\n",
       "top        tcp       -     FIN     Normal\n",
       "freq    123041  149701  117164      93000"
      ]
     },
     "execution_count": 22,
     "metadata": {},
     "output_type": "execute_result"
    }
   ],
   "source": [
    "df_cat.describe(include='all')"
   ]
  },
  {
   "cell_type": "code",
   "execution_count": 23,
   "id": "00f08f4f",
   "metadata": {},
   "outputs": [],
   "source": [
    "# 6 + 5 + 11 unique = 22, therefore the first 22 rows will be the categories that have been encoded, start scaling from row 23 only.\n",
    "\n",
    "from sklearn.preprocessing import StandardScaler\n",
    "sc = StandardScaler()\n",
    "X_train[:, 23:] = sc.fit_transform(X_train[:, 23:])\n",
    "X_test[:, 23:] = sc.transform(X_test[:, 23:])"
   ]
  },
  {
   "cell_type": "markdown",
   "id": "14b7c0ab",
   "metadata": {},
   "source": [
    "## DNN"
   ]
  },
  {
   "cell_type": "code",
   "execution_count": 24,
   "id": "73d1448b",
   "metadata": {},
   "outputs": [],
   "source": [
    "import torch\n",
    "import torch.nn as nn\n",
    "import torch.optim as optim\n",
    "import torch.nn.functional as F\n",
    "from torch.utils.data import DataLoader, TensorDataset"
   ]
  },
  {
   "cell_type": "code",
   "execution_count": 25,
   "id": "779098f9",
   "metadata": {},
   "outputs": [
    {
     "name": "stdout",
     "output_type": "stream",
     "text": [
      " Input Size: 61\n",
      " Classes: 10\n"
     ]
    }
   ],
   "source": [
    "print(f\" Input Size: {X_train.shape[1]}\")\n",
    "print(f\" Classes: {len(y_train.value_counts())}\")"
   ]
  },
  {
   "cell_type": "code",
   "execution_count": 26,
   "id": "68205996",
   "metadata": {},
   "outputs": [],
   "source": [
    "class DNNMulticlass(nn.Module):\n",
    "\n",
    "    def __init__(self):\n",
    "        super().__init__()\n",
    "        self.layer1 = nn.Linear(61, 200) # 61 features => X_train.shape[1]\n",
    "        self.layer2 = nn.Linear(200, 200)\n",
    "        self.layer3 = nn.Linear(200, 200)\n",
    "        self.layer4 = nn.Linear(200, 100)\n",
    "        self.layer5 = nn.Linear(100, 50)\n",
    "        self.out_layer = nn.Linear(50, 10) # 10 classifications =>  y_train.value_counts()\n",
    "\n",
    "    def forward(self, x):\n",
    "        \n",
    "        x = F.leaky_relu(self.layer1(x), negative_slope=0.05)\n",
    "        x = F.leaky_relu(self.layer2(x), negative_slope=0.05)\n",
    "        x = F.leaky_relu(self.layer3(x), negative_slope=0.05)\n",
    "        x = F.leaky_relu(self.layer4(x), negative_slope=0.05)\n",
    "        x = F.leaky_relu(self.layer5(x), negative_slope=0.05)\n",
    "        x = self.out_layer(x) \n",
    "        return x"
   ]
  },
  {
   "cell_type": "code",
   "execution_count": 27,
   "id": "cbce325c",
   "metadata": {},
   "outputs": [],
   "source": [
    "class EarlyStopping:\n",
    "    def __init__(self, patience=5, delta=0):\n",
    "        self.patience = patience\n",
    "        self.counter = 0\n",
    "        self.best_loss = None\n",
    "        self.early_stop = False\n",
    "        self.delta = delta\n",
    "\n",
    "    def __call__(self, val_loss):\n",
    "        if self.best_loss is None:\n",
    "            self.best_loss = val_loss\n",
    "        elif val_loss > self.best_loss - self.delta:\n",
    "            self.counter += 1\n",
    "            if self.counter >= self.patience:\n",
    "                self.early_stop = True\n",
    "        else:\n",
    "            self.best_loss = val_loss\n",
    "            self.counter = 0"
   ]
  },
  {
   "cell_type": "code",
   "execution_count": 28,
   "id": "b5c4a1ca",
   "metadata": {},
   "outputs": [
    {
     "name": "stderr",
     "output_type": "stream",
     "text": [
      "/var/folders/5n/5nt9ztr10sx56m052vljdpfw0000gn/T/ipykernel_72887/1798762321.py:3: FutureWarning:\n",
      "\n",
      "Downcasting behavior in `replace` is deprecated and will be removed in a future version. To retain the old behavior, explicitly call `result.infer_objects(copy=False)`. To opt-in to the future behavior, set `pd.set_option('future.no_silent_downcasting', True)`\n",
      "\n"
     ]
    },
    {
     "data": {
      "text/plain": [
       "array([0, 0, 1, ..., 1, 1, 1])"
      ]
     },
     "execution_count": 28,
     "metadata": {},
     "output_type": "execute_result"
    }
   ],
   "source": [
    "# Remap y_train to numerical encodings\n",
    "\n",
    "y_train = np.array(y_train.replace({'Generic': 0, 'Normal': 1, 'DoS': 2, 'Exploits': 3, 'Fuzzers': 4,\n",
    "                                   'Reconnaissance': 5, 'Analysis': 6, 'Shellcode': 7, 'Backdoor': 8, \n",
    "                                   'Worms': 9}))\n",
    "y_train"
   ]
  },
  {
   "cell_type": "code",
   "execution_count": 29,
   "id": "ca538b91",
   "metadata": {},
   "outputs": [
    {
     "name": "stderr",
     "output_type": "stream",
     "text": [
      "/var/folders/5n/5nt9ztr10sx56m052vljdpfw0000gn/T/ipykernel_72887/836008946.py:3: FutureWarning:\n",
      "\n",
      "Downcasting behavior in `replace` is deprecated and will be removed in a future version. To retain the old behavior, explicitly call `result.infer_objects(copy=False)`. To opt-in to the future behavior, set `pd.set_option('future.no_silent_downcasting', True)`\n",
      "\n"
     ]
    },
    {
     "data": {
      "text/plain": [
       "array([1, 3, 1, ..., 0, 0, 3])"
      ]
     },
     "execution_count": 29,
     "metadata": {},
     "output_type": "execute_result"
    }
   ],
   "source": [
    "# Remap y_test to numerical encodings\n",
    "\n",
    "y_test = np.array(y_test.replace({'Generic': 0, 'Normal': 1, 'DoS': 2, 'Exploits': 3, 'Fuzzers': 4,\n",
    "                                   'Reconnaissance': 5, 'Analysis': 6, 'Shellcode': 7, 'Backdoor': 8, \n",
    "                                   'Worms': 9}))\n",
    "y_test"
   ]
  },
  {
   "cell_type": "code",
   "execution_count": 30,
   "id": "53fe00e4",
   "metadata": {},
   "outputs": [],
   "source": [
    "# Get X tensors\n",
    "X_train_tensor = torch.tensor(X_train, dtype=torch.float32)\n",
    "X_test_tensor = torch.tensor(X_test, dtype=torch.float32)\n",
    "\n",
    "# Get y tensors\n",
    "y_train_tensor = torch.tensor(y_train, dtype=torch.long)\n",
    "y_test_tensor = torch.tensor(y_test, dtype=torch.long)\n",
    "\n",
    "# Load training\n",
    "train_dataset = TensorDataset(X_train_tensor, y_train_tensor)\n",
    "train_loader = DataLoader(dataset=train_dataset, batch_size=100)\n",
    "\n",
    "# Load testing\n",
    "test_dataset = TensorDataset(X_test_tensor, y_test_tensor)\n",
    "test_loader = DataLoader(dataset=test_dataset, batch_size=100)"
   ]
  },
  {
   "cell_type": "code",
   "execution_count": 31,
   "id": "0fbbb440",
   "metadata": {},
   "outputs": [
    {
     "name": "stdout",
     "output_type": "stream",
     "text": [
      "Sample 0:\n",
      "Features: tensor([ 0.0000e+00,  0.0000e+00,  0.0000e+00,  0.0000e+00,  1.0000e+00,\n",
      "         0.0000e+00,  0.0000e+00,  1.0000e+00,  0.0000e+00,  0.0000e+00,\n",
      "         0.0000e+00,  0.0000e+00,  0.0000e+00,  0.0000e+00,  0.0000e+00,\n",
      "         0.0000e+00,  1.0000e+00,  0.0000e+00,  0.0000e+00,  0.0000e+00,\n",
      "         0.0000e+00,  0.0000e+00,  5.0000e-06, -8.8559e-01, -9.5261e-01,\n",
      "        -1.0129e+00, -1.0064e+00,  1.0898e+00,  7.2287e-01, -7.5184e-01,\n",
      "         9.9148e-01, -9.9802e-01, -6.6805e-01, -4.9224e-01, -8.5860e-01,\n",
      "        -7.8054e-01, -9.2427e-01, -8.2826e-01, -9.5609e-01, -9.3572e-01,\n",
      "        -9.3556e-01, -9.3736e-01, -5.5421e-01, -4.9775e-01, -5.3166e-01,\n",
      "        -6.5797e-01, -1.0213e+00, -3.3132e-01, -2.6535e-01,  3.8608e-01,\n",
      "         6.7941e-01, -2.4222e-01, -1.2621e-01,  2.1828e-02, -3.9226e-01,\n",
      "        -1.1083e-01, -1.1076e-01, -3.3130e-01, -1.9569e-01,  4.0911e-01,\n",
      "        -1.2117e-01])\n",
      "Label: tensor(0)\n",
      "\n",
      "Sample 1:\n",
      "Features: tensor([ 0.0000e+00,  0.0000e+00,  0.0000e+00,  0.0000e+00,  1.0000e+00,\n",
      "         0.0000e+00,  0.0000e+00,  1.0000e+00,  0.0000e+00,  0.0000e+00,\n",
      "         0.0000e+00,  0.0000e+00,  0.0000e+00,  0.0000e+00,  0.0000e+00,\n",
      "         0.0000e+00,  1.0000e+00,  0.0000e+00,  0.0000e+00,  0.0000e+00,\n",
      "         0.0000e+00,  0.0000e+00,  3.0000e-06, -8.8559e-01, -9.5261e-01,\n",
      "        -1.0129e+00, -1.0064e+00,  1.2139e+00,  7.2287e-01, -7.5184e-01,\n",
      "         1.1029e+00, -9.9802e-01, -6.6805e-01, -4.9224e-01, -8.5955e-01,\n",
      "        -7.8054e-01, -9.2427e-01, -8.2826e-01, -9.5609e-01, -9.3572e-01,\n",
      "        -9.3556e-01, -9.3736e-01, -5.5421e-01, -4.9775e-01, -5.3166e-01,\n",
      "        -6.5797e-01, -1.0213e+00, -3.3132e-01, -2.6535e-01,  2.4736e+00,\n",
      "         6.7941e-01,  2.8148e+00,  2.9311e+00,  2.4419e+00,  2.5106e+00,\n",
      "        -1.1083e-01, -1.1076e-01, -3.3130e-01,  2.6272e+00,  2.4845e+00,\n",
      "        -1.2117e-01])\n",
      "Label: tensor(0)\n",
      "\n",
      "Sample 2:\n",
      "Features: tensor([ 0.0000e+00,  0.0000e+00,  0.0000e+00,  0.0000e+00,  1.0000e+00,\n",
      "         0.0000e+00,  1.0000e+00,  0.0000e+00,  0.0000e+00,  0.0000e+00,\n",
      "         0.0000e+00,  0.0000e+00,  0.0000e+00,  0.0000e+00,  0.0000e+00,\n",
      "         0.0000e+00,  1.0000e+00,  0.0000e+00,  0.0000e+00,  0.0000e+00,\n",
      "         0.0000e+00,  0.0000e+00,  3.0000e-06, -8.8559e-01, -9.5261e-01,\n",
      "        -1.2700e+00, -1.0064e+00,  1.2139e+00,  7.2287e-01, -7.5184e-01,\n",
      "         1.0201e+00, -9.9802e-01, -6.6805e-01, -4.9224e-01, -8.5955e-01,\n",
      "        -7.8054e-01, -9.2427e-01, -8.2826e-01, -9.5609e-01, -9.3572e-01,\n",
      "        -9.3556e-01, -9.3736e-01, -5.5421e-01, -4.9775e-01, -5.3166e-01,\n",
      "        -1.2199e+00, -1.0213e+00, -3.3132e-01, -2.6535e-01,  1.6783e+00,\n",
      "         6.7941e-01,  4.8565e-01,  6.0173e-01, -5.3666e-01,  1.6397e+00,\n",
      "        -1.1083e-01, -1.1076e-01, -3.3130e-01,  3.6888e-01,  1.5951e+00,\n",
      "        -1.2117e-01])\n",
      "Label: tensor(1)\n",
      "\n",
      "Sample 3:\n",
      "Features: tensor([ 0.0000e+00,  0.0000e+00,  0.0000e+00,  0.0000e+00,  1.0000e+00,\n",
      "         0.0000e+00,  0.0000e+00,  1.0000e+00,  0.0000e+00,  0.0000e+00,\n",
      "         0.0000e+00,  0.0000e+00,  0.0000e+00,  0.0000e+00,  0.0000e+00,\n",
      "         0.0000e+00,  1.0000e+00,  0.0000e+00,  0.0000e+00,  0.0000e+00,\n",
      "         0.0000e+00,  0.0000e+00,  9.0000e-06, -8.8559e-01, -9.5261e-01,\n",
      "        -1.0129e+00, -1.0064e+00,  9.4712e-01,  7.2287e-01, -7.5184e-01,\n",
      "         8.6331e-01, -9.9802e-01, -6.6805e-01, -4.9224e-01, -8.5670e-01,\n",
      "        -7.8054e-01, -9.2427e-01, -8.2826e-01, -9.5609e-01, -9.3572e-01,\n",
      "        -9.3556e-01, -9.3736e-01, -5.5421e-01, -4.9775e-01, -5.3166e-01,\n",
      "        -6.5797e-01, -1.0213e+00, -3.3132e-01, -2.6535e-01,  6.8429e-01,\n",
      "         6.7941e-01,  7.7680e-01,  8.9290e-01,  1.3250e+00,  7.6887e-01,\n",
      "        -1.1083e-01, -1.1076e-01, -3.3130e-01,  6.5117e-01,  7.0560e-01,\n",
      "        -1.2117e-01])\n",
      "Label: tensor(0)\n",
      "\n",
      "Sample 4:\n",
      "Features: tensor([ 0.0000e+00,  0.0000e+00,  0.0000e+00,  0.0000e+00,  1.0000e+00,\n",
      "         0.0000e+00,  0.0000e+00,  1.0000e+00,  0.0000e+00,  0.0000e+00,\n",
      "         0.0000e+00,  0.0000e+00,  0.0000e+00,  0.0000e+00,  0.0000e+00,\n",
      "         0.0000e+00,  1.0000e+00,  0.0000e+00,  0.0000e+00,  0.0000e+00,\n",
      "         0.0000e+00,  0.0000e+00,  1.0000e-06, -8.8559e-01, -9.5261e-01,\n",
      "        -1.0129e+00, -1.0064e+00,  1.2139e+00,  7.2287e-01, -7.5184e-01,\n",
      "         1.2254e+00, -9.9802e-01, -6.6805e-01, -4.9224e-01, -8.6050e-01,\n",
      "        -7.8054e-01, -9.2427e-01, -8.2826e-01, -9.5609e-01, -9.3572e-01,\n",
      "        -9.3556e-01, -9.3736e-01, -5.5421e-01, -4.9775e-01, -5.3166e-01,\n",
      "        -6.5797e-01, -1.0213e+00, -3.3132e-01, -2.6535e-01,  3.8608e-01,\n",
      "         6.7941e-01,  6.3122e-01,  7.4731e-01,  1.1388e+00,  4.7859e-01,\n",
      "        -1.1083e-01, -1.1076e-01, -3.3130e-01,  6.5117e-01,  4.0911e-01,\n",
      "        -1.2117e-01])\n",
      "Label: tensor(0)\n",
      "\n"
     ]
    }
   ],
   "source": [
    "for i, (features, labels) in enumerate(train_dataset):\n",
    "    print(f\"Sample {i}:\")\n",
    "    print(\"Features:\", features)\n",
    "    print(\"Label:\", labels)\n",
    "    print()\n",
    "    \n",
    "    if i == 4:  # Showing first 5\n",
    "        break"
   ]
  },
  {
   "cell_type": "code",
   "execution_count": 32,
   "id": "b74165ea",
   "metadata": {
    "scrolled": false
   },
   "outputs": [
    {
     "name": "stdout",
     "output_type": "stream",
     "text": [
      "Epoch [1/100], Training Loss: 0.5828, Validation Loss: 0.5029\n",
      "Epoch [2/100], Training Loss: 0.4932, Validation Loss: 0.4808\n",
      "Epoch [3/100], Training Loss: 0.4713, Validation Loss: 0.4629\n",
      "Epoch [4/100], Training Loss: 0.4596, Validation Loss: 0.4565\n",
      "Epoch [5/100], Training Loss: 0.4523, Validation Loss: 0.4518\n",
      "Epoch [6/100], Training Loss: 0.4454, Validation Loss: 0.4474\n",
      "Epoch [7/100], Training Loss: 0.4417, Validation Loss: 0.4519\n",
      "Epoch [8/100], Training Loss: 0.4367, Validation Loss: 0.4479\n",
      "Epoch [9/100], Training Loss: 0.4343, Validation Loss: 0.4500\n",
      "Epoch [10/100], Training Loss: 0.4316, Validation Loss: 0.4392\n",
      "Epoch [11/100], Training Loss: 0.4280, Validation Loss: 0.4452\n",
      "Epoch [12/100], Training Loss: 0.4261, Validation Loss: 0.4403\n",
      "Epoch [13/100], Training Loss: 0.4242, Validation Loss: 0.4425\n",
      "Epoch [14/100], Training Loss: 0.4215, Validation Loss: 0.4410\n",
      "Epoch [15/100], Training Loss: 0.4194, Validation Loss: 0.4415\n",
      "Epoch [16/100], Training Loss: 0.4177, Validation Loss: 0.4422\n",
      "Epoch [17/100], Training Loss: 0.4163, Validation Loss: 0.4393\n",
      "Epoch [18/100], Training Loss: 0.4141, Validation Loss: 0.4418\n",
      "Epoch [19/100], Training Loss: 0.4132, Validation Loss: 0.4366\n",
      "Epoch [20/100], Training Loss: 0.4118, Validation Loss: 0.4380\n",
      "Epoch [21/100], Training Loss: 0.4105, Validation Loss: 0.4365\n",
      "Epoch [22/100], Training Loss: 0.4087, Validation Loss: 0.4339\n",
      "Epoch [23/100], Training Loss: 0.4076, Validation Loss: 0.4342\n",
      "Epoch [24/100], Training Loss: 0.4060, Validation Loss: 0.4334\n",
      "Epoch [25/100], Training Loss: 0.4046, Validation Loss: 0.4356\n",
      "Epoch [26/100], Training Loss: 0.4043, Validation Loss: 0.4348\n",
      "Epoch [27/100], Training Loss: 0.4036, Validation Loss: 0.4365\n",
      "Epoch [28/100], Training Loss: 0.4016, Validation Loss: 0.4345\n",
      "Epoch [29/100], Training Loss: 0.4010, Validation Loss: 0.4343\n",
      "Epoch [30/100], Training Loss: 0.3994, Validation Loss: 0.4351\n",
      "Epoch [31/100], Training Loss: 0.3989, Validation Loss: 0.4380\n",
      "Epoch [32/100], Training Loss: 0.3979, Validation Loss: 0.4389\n",
      "Early stopping triggered\n",
      "Finished Training\n"
     ]
    }
   ],
   "source": [
    "# Training script\n",
    "\n",
    "model_dnn = DNNMulticlass()\n",
    "early_stopping = EarlyStopping(patience=10, delta=0.001) # If model doesn't improve by 0.001 in 5 steps, end training \n",
    "\n",
    "criterion = nn.CrossEntropyLoss() # Cross entropy used for classification tasks\n",
    "optimizer = optim.Adam(model_dnn.parameters(), lr=0.001) # RMSProp optimizer\n",
    "\n",
    "training_losses = []\n",
    "validation_losses = []\n",
    "\n",
    "epochs = 100\n",
    "for epoch in range(epochs): \n",
    "    model_dnn.train()\n",
    "    train_loss = 0.0\n",
    "    for inputs, labels in train_loader:\n",
    "\n",
    "        optimizer.zero_grad()\n",
    "\n",
    "        # Feed forward + backpropogate\n",
    "        outputs = model_dnn(inputs)\n",
    "        loss = criterion(outputs, labels)\n",
    "        loss.backward()\n",
    "        optimizer.step()\n",
    "        train_loss += loss.item()\n",
    "\n",
    "    avg_train_loss = train_loss / len(train_loader)\n",
    "    training_losses.append(avg_train_loss)\n",
    "\n",
    "    # Validation\n",
    "    model_dnn.eval()\n",
    "    with torch.no_grad():\n",
    "        val_loss = 0.0\n",
    "        for inputs, labels in test_loader:\n",
    "            outputs = model_dnn(inputs)\n",
    "            loss = criterion(outputs, labels)\n",
    "            val_loss += loss.item()\n",
    "\n",
    "        # Average validation loss for this epoch\n",
    "        avg_val_loss = val_loss / len(test_loader)\n",
    "        validation_losses.append(avg_val_loss)\n",
    "\n",
    "    print(f'Epoch [{epoch + 1}/{epochs}], Training Loss: {avg_train_loss:.4f}, Validation Loss: {avg_val_loss:.4f}')\n",
    "\n",
    "    early_stopping(avg_val_loss)\n",
    "    if early_stopping.early_stop:\n",
    "        print(\"Early stopping triggered\")\n",
    "        break\n",
    "\n",
    "print('Finished Training')"
   ]
  },
  {
   "cell_type": "code",
   "execution_count": 33,
   "id": "0fd249ee",
   "metadata": {},
   "outputs": [
    {
     "data": {
      "image/png": "[encoded data removed]",
      "text/plain": [
       "<Figure size 1000x600 with 1 Axes>"
      ]
     },
     "metadata": {},
     "output_type": "display_data"
    }
   ],
   "source": [
    "# Get the training and validation graphs\n",
    "\n",
    "plt.figure(figsize=(10, 6))\n",
    "plt.plot(training_losses, label='Training Loss')\n",
    "plt.plot(validation_losses, label='Validation Loss')\n",
    "plt.title('Training and Validation Loss per Epoch')\n",
    "plt.xlabel('Epochs')\n",
    "plt.ylabel('Loss')\n",
    "plt.legend()\n",
    "plt.show()"
   ]
  },
  {
   "cell_type": "code",
   "execution_count": 34,
   "id": "aed741ea",
   "metadata": {},
   "outputs": [],
   "source": [
    "model_dnn.eval()\n",
    "\n",
    "all_probs = []\n",
    "all_labels = []\n",
    "\n",
    "with torch.no_grad():\n",
    "    for inputs, labels in test_loader:\n",
    "        outputs = model_dnn(inputs)\n",
    "        probabilities = torch.softmax(outputs, dim=1)\n",
    "        all_probs.extend(probabilities.numpy())\n",
    "        all_labels.extend(labels.numpy())\n",
    "\n",
    "all_probs = np.array(all_probs)\n",
    "all_labels = np.array(all_labels)"
   ]
  },
  {
   "cell_type": "code",
   "execution_count": 35,
   "id": "6cef31bd",
   "metadata": {},
   "outputs": [
    {
     "name": "stdout",
     "output_type": "stream",
     "text": [
      "Macro-average AUC: 0.9687508807881994\n"
     ]
    }
   ],
   "source": [
    "num_classes = all_probs.shape[1]\n",
    "all_labels_binarized = label_binarize(all_labels, classes=range(num_classes))\n",
    "\n",
    "auc_scores = []\n",
    "for i in range(num_classes):\n",
    "    auc_score = roc_auc_score(all_labels_binarized[:, i], all_probs[:, i])\n",
    "    auc_scores.append(auc_score)\n",
    "\n",
    "# Compute the macro-average AUC\n",
    "macro_auc = np.mean(auc_scores)\n",
    "print(\"Macro-average AUC:\", macro_auc)"
   ]
  },
  {
   "cell_type": "code",
   "execution_count": 36,
   "id": "66caded3",
   "metadata": {},
   "outputs": [
    {
     "name": "stdout",
     "output_type": "stream",
     "text": [
      "Micro-average AUC: 0.9893392895459835\n"
     ]
    }
   ],
   "source": [
    "all_labels_flat = (np.arange(all_probs.shape[1]) == all_labels[:, None]).astype(float).ravel()\n",
    "all_probs_flat = all_probs.ravel()\n",
    "\n",
    "# Calculate the micro-average AUC\n",
    "micro_auc = roc_auc_score(all_labels_flat, all_probs_flat)\n",
    "\n",
    "print(\"Micro-average AUC:\", micro_auc)"
   ]
  },
  {
   "cell_type": "code",
   "execution_count": 37,
   "id": "2106ba01",
   "metadata": {},
   "outputs": [
    {
     "name": "stdout",
     "output_type": "stream",
     "text": [
      "Weighted-average AUC: 0.9789756510217416\n"
     ]
    }
   ],
   "source": [
    "num_classes = all_probs.shape[1]\n",
    "all_labels_binarized = label_binarize(all_labels, classes=range(num_classes))\n",
    "\n",
    "class_support = np.sum(all_labels_binarized, axis=0)\n",
    "\n",
    "weighted_auc = 0\n",
    "total_instances = len(all_labels)\n",
    "for i in range(num_classes):\n",
    "    class_weight = class_support[i] / total_instances\n",
    "    auc_score = roc_auc_score(all_labels_binarized[:, i], all_probs[:, i])\n",
    "    weighted_auc += auc_score * class_weight\n",
    "\n",
    "print(\"Weighted-average AUC:\", weighted_auc)"
   ]
  },
  {
   "cell_type": "markdown",
   "id": "76c1212b",
   "metadata": {},
   "source": [
    "## CNN"
   ]
  },
  {
   "cell_type": "code",
   "execution_count": null,
   "id": "0c4c6a83",
   "metadata": {},
   "outputs": [],
   "source": [
    "# Tensorflow and Keras\n",
    "import tensorflow as tf\n",
    "from tensorflow.keras import Model\n",
    "from tensorflow.keras.models import Sequential\n",
    "from tensorflow.keras.layers import Input, Dense, Conv1D, MaxPooling1D, Flatten\n",
    "from tensorflow.keras.optimizers import SGD, Adam"
   ]
  },
  {
   "cell_type": "code",
   "execution_count": 40,
   "id": "4821a28b",
   "metadata": {},
   "outputs": [],
   "source": [
    "### Reshape training and test data for CNN model training\n",
    "x_train_cnn = X_train.reshape(X_train.shape[0], X_train.shape[1], 1)\n",
    "x_test_cnn = X_test.reshape(X_test.shape[0], X_test.shape[1], 1)\n",
    "input_shape = x_train_cnn.shape[1:]\n",
    "\n",
    "y_train_cnn = np.array(y_train)\n",
    "num_classes = len(np.unique(y_train))"
   ]
  },
  {
   "cell_type": "code",
   "execution_count": null,
   "id": "1ea9abd6",
   "metadata": {},
   "outputs": [],
   "source": [
    "cnn_model = Sequential()\n",
    "cnn_model.add(Conv1D(filters=20, kernel_size=4, strides=2, padding='valid', activation='relu', input_shape=input_shape))\n",
    "cnn_model.add(MaxPooling1D())\n",
    "cnn_model.add(Conv1D(filters=20, kernel_size=4, strides=2, padding='same', activation='relu'))\n",
    "cnn_model.add(Conv1D(filters=3, kernel_size=2, strides=1, padding='same', activation='relu'))\n",
    "cnn_model.add(Flatten())\n",
    "cnn_model.add(Dense(units=200, activation='relu'))\n",
    "cnn_model.add(Dense(units=200, activation='relu'))\n",
    "cnn_model.add(Dense(units=200, activation='relu'))\n",
    "cnn_model.add(Dense(units=200, activation='relu'))\n",
    "cnn_model.add(Dense(units=num_classes, activation='softmax'))\n",
    "\n",
    "opt = Adam(learning_rate=0.001) \n",
    "cnn_model.compile(loss = \"sparse_categorical_crossentropy\", optimizer=opt, metrics=['accuracy'])"
   ]
  },
  {
   "cell_type": "code",
   "execution_count": null,
   "id": "193eef7e",
   "metadata": {},
   "outputs": [
    {
     "name": "stdout",
     "output_type": "stream",
     "text": [
      "Epoch 1/100\n",
      "165/165 [==============================] - 4s 24ms/step - loss: 0.4282 - accuracy: 0.8228 - val_loss: 0.4321 - val_accuracy: 0.8204\n",
      "Epoch 2/100\n",
      "165/165 [==============================] - 4s 22ms/step - loss: 0.4281 - accuracy: 0.8234 - val_loss: 0.4364 - val_accuracy: 0.8171\n",
      "Epoch 3/100\n",
      "165/165 [==============================] - 4s 22ms/step - loss: 0.4274 - accuracy: 0.8238 - val_loss: 0.4370 - val_accuracy: 0.8189\n",
      "Epoch 4/100\n",
      "165/165 [==============================] - 4s 22ms/step - loss: 0.4285 - accuracy: 0.8227 - val_loss: 0.4352 - val_accuracy: 0.8175\n",
      "Epoch 5/100\n",
      "165/165 [==============================] - 4s 22ms/step - loss: 0.4264 - accuracy: 0.8235 - val_loss: 0.4334 - val_accuracy: 0.8200\n",
      "Epoch 6/100\n",
      "165/165 [==============================] - 4s 21ms/step - loss: 0.4271 - accuracy: 0.8234 - val_loss: 0.4366 - val_accuracy: 0.8194\n",
      "Epoch 7/100\n",
      "165/165 [==============================] - 4s 22ms/step - loss: 0.4276 - accuracy: 0.8231 - val_loss: 0.4407 - val_accuracy: 0.8183\n",
      "Epoch 8/100\n",
      "165/165 [==============================] - 4s 21ms/step - loss: 0.4257 - accuracy: 0.8242 - val_loss: 0.4338 - val_accuracy: 0.8203\n",
      "Epoch 9/100\n",
      "165/165 [==============================] - 4s 22ms/step - loss: 0.4237 - accuracy: 0.8244 - val_loss: 0.4320 - val_accuracy: 0.8198\n",
      "Epoch 10/100\n",
      "165/165 [==============================] - 4s 22ms/step - loss: 0.4227 - accuracy: 0.8244 - val_loss: 0.4406 - val_accuracy: 0.8193\n",
      "Epoch 11/100\n",
      "165/165 [==============================] - 4s 22ms/step - loss: 0.4238 - accuracy: 0.8242 - val_loss: 0.4337 - val_accuracy: 0.8210\n"
     ]
    }
   ],
   "source": [
    "hist = cnn_model.fit(x_train_cnn, y_train_cnn, epochs=100,\n",
    "                       batch_size=1000, validation_split=0.2,\n",
    "                       callbacks = [tf.keras.callbacks.EarlyStopping(monitor='val_loss', min_delta=0.001, patience=10)])"
   ]
  },
  {
   "cell_type": "code",
   "execution_count": null,
   "id": "4995b31f",
   "metadata": {},
   "outputs": [
    {
     "data": {
      "image/png": "[encoded data removed]",
      "text/plain": [
       "<Figure size 800x500 with 1 Axes>"
      ]
     },
     "metadata": {},
     "output_type": "display_data"
    }
   ],
   "source": [
    "train_loss = hist.history['loss']\n",
    "val_loss = hist.history['val_loss']\n",
    "\n",
    "epochs = range(1, len(train_loss) + 1)\n",
    "\n",
    "# Plotting\n",
    "plt.figure(figsize=(8, 5))\n",
    "plt.plot(epochs, train_loss, 'bo-', label='Training Loss')\n",
    "plt.plot(epochs, val_loss, 'ro-', label='Validation Loss')\n",
    "plt.title('Training and Validation Loss')\n",
    "plt.xlabel('Epochs')\n",
    "plt.ylabel('Loss')\n",
    "plt.legend()\n",
    "\n",
    "plt.show()"
   ]
  },
  {
   "cell_type": "code",
   "execution_count": null,
   "id": "6d16e95f",
   "metadata": {},
   "outputs": [
    {
     "name": "stdout",
     "output_type": "stream",
     "text": [
      "1611/1611 [==============================] - 4s 3ms/step\n"
     ]
    }
   ],
   "source": [
    "y_pred_probs = cnn_model.predict(X_test)"
   ]
  },
  {
   "cell_type": "code",
   "execution_count": null,
   "id": "98387476",
   "metadata": {},
   "outputs": [],
   "source": [
    "y_pred = np.argmax(y_pred_probs, axis=-1)"
   ]
  },
  {
   "cell_type": "code",
   "execution_count": null,
   "id": "d421b3ba",
   "metadata": {},
   "outputs": [],
   "source": [
    "conf_matrix = confusion_matrix(y_test, y_pred)"
   ]
  },
  {
   "cell_type": "code",
   "execution_count": null,
   "id": "72d563c3",
   "metadata": {},
   "outputs": [
    {
     "name": "stdout",
     "output_type": "stream",
     "text": [
      "Macro Average AUC: 0.9695994912919367\n"
     ]
    }
   ],
   "source": [
    "auc_scores = []\n",
    "for i in range(num_classes):\n",
    "    y_true_binary = (y_test == i).astype(int)\n",
    "    y_pred_prob_class = y_pred_probs[:, i]\n",
    "    auc_score = roc_auc_score(y_true_binary, y_pred_prob_class)\n",
    "    auc_scores.append(auc_score)\n",
    "\n",
    "mean_auc = np.mean(auc_scores)\n",
    "print(\"Macro Average AUC:\", mean_auc)"
   ]
  },
  {
   "cell_type": "code",
   "execution_count": null,
   "id": "34fbe7a1",
   "metadata": {},
   "outputs": [
    {
     "name": "stdout",
     "output_type": "stream",
     "text": [
      "Weighted-average AUC: 0.9530596346469594\n"
     ]
    }
   ],
   "source": [
    "auc_scores = []\n",
    "class_support = np.bincount(y_test)  \n",
    "total_instances = len(y_test)\n",
    "weighted_auc = 0\n",
    "\n",
    "for i in range(num_classes):\n",
    "    y_true_binary = (y_test == i).astype(int)\n",
    "    y_pred_prob_class = y_pred_probs[:, i]\n",
    "\n",
    "    auc_score = roc_auc_score(y_true_binary, y_pred_prob_class)\n",
    "    auc_scores.append(auc_score)\n",
    "\n",
    "    class_weight = class_support[i] / total_instances\n",
    "    weighted_auc += auc_score * class_weight\n",
    "\n",
    "print(\"Weighted-average AUC:\", weighted_auc)"
   ]
  },
  {
   "cell_type": "code",
   "execution_count": null,
   "id": "994963a5",
   "metadata": {},
   "outputs": [
    {
     "name": "stdout",
     "output_type": "stream",
     "text": [
      "Macro Accuracy: 0.8185\n",
      "Macro Precision: 0.7521\n",
      "Macro Recall: 0.4973\n",
      "Macro F1 Score: 0.5183\n"
     ]
    }
   ],
   "source": [
    "precision, recall, f1_score, _ = precision_recall_fscore_support(y_test, y_pred, average='macro')\n",
    "accuracy = accuracy_score(y_test, y_pred)\n",
    "\n",
    "print(f\"Macro Accuracy: {accuracy:.4f}\")\n",
    "print(f\"Macro Precision: {precision:.4f}\")\n",
    "print(f\"Macro Recall: {recall:.4f}\")\n",
    "print(f\"Macro F1 Score: {f1_score:.4f}\")"
   ]
  },
  {
   "cell_type": "code",
   "execution_count": null,
   "id": "c5b993bf",
   "metadata": {},
   "outputs": [
    {
     "name": "stdout",
     "output_type": "stream",
     "text": [
      "Micro Accuracy: 0.8185\n",
      "Micro Precision: 0.8185\n",
      "Micro Recall: 0.8185\n",
      "Micro F1 Score: 0.8185\n"
     ]
    }
   ],
   "source": [
    "precision, recall, f1_score, _ = precision_recall_fscore_support(y_test, y_pred, average='micro')\n",
    "accuracy = accuracy_score(y_test, y_pred)\n",
    "\n",
    "print(f\"Micro Accuracy: {accuracy:.4f}\")\n",
    "print(f\"Micro Precision: {precision:.4f}\")\n",
    "print(f\"Micro Recall: {recall:.4f}\")\n",
    "print(f\"Micro F1 Score: {f1_score:.4f}\")"
   ]
  },
  {
   "cell_type": "code",
   "execution_count": null,
   "id": "e3c14490",
   "metadata": {},
   "outputs": [
    {
     "name": "stdout",
     "output_type": "stream",
     "text": [
      "Weighted Accuracy: 0.8185\n",
      "Weighted Precision: 0.8148\n",
      "Weighted Recall: 0.8185\n",
      "Weighted F1 Score: 0.7948\n"
     ]
    }
   ],
   "source": [
    "precision, recall, f1_score, _ = precision_recall_fscore_support(y_test, y_pred, average='weighted')\n",
    "accuracy = accuracy_score(y_test, y_pred)\n",
    "\n",
    "print(f\"Weighted Accuracy: {accuracy:.4f}\")\n",
    "print(f\"Weighted Precision: {precision:.4f}\")\n",
    "print(f\"Weighted Recall: {recall:.4f}\")\n",
    "print(f\"Weighted F1 Score: {f1_score:.4f}\")"
   ]
  },
  {
   "cell_type": "code",
   "execution_count": null,
   "id": "0beec052",
   "metadata": {},
   "outputs": [
    {
     "data": {
      "text/plain": [
       "{'Weighted True Positive Rate (TPR)': 0.8144,\n",
       " 'Weighted False Positive Rate (FPR)': 0.047,\n",
       " 'Weighted False Negative Rate (FNR)': 0.1597,\n",
       " 'Weighted True Negative Rate (TNR)': 0.9271}"
      ]
     },
     "execution_count": 169,
     "metadata": {},
     "output_type": "execute_result"
    }
   ],
   "source": [
    "num_classes = 6\n",
    "weighted_TPR, weighted_FPR, weighted_FNR, weighted_TNR = 0, 0, 0, 0\n",
    "total_instances = np.sum(conf_matrix)\n",
    "\n",
    "for i in range(num_classes):\n",
    "    TP = conf_matrix[i, i]\n",
    "    FP = np.sum(conf_matrix[:, i]) - TP\n",
    "    FN = np.sum(conf_matrix[i, :]) - TP\n",
    "    TN = np.sum(conf_matrix) - TP - FP - FN\n",
    "\n",
    "    TPR = TP / (TP + FN) if TP + FN > 0 else 0\n",
    "    FPR = FP / (FP + TN) if FP + TN > 0 else 0\n",
    "    FNR = FN / (FN + TP) if FN + TP > 0 else 0\n",
    "    TNR = TN / (TN + FP) if TN + FP > 0 else 0\n",
    "\n",
    "    class_weight = np.sum(conf_matrix[i, :]) / total_instances\n",
    "\n",
    "    weighted_TPR += TPR * class_weight\n",
    "    weighted_FPR += FPR * class_weight\n",
    "    weighted_FNR += FNR * class_weight\n",
    "    weighted_TNR += TNR * class_weight\n",
    "\n",
    "weighted_metrics = {\n",
    "    \"Weighted True Positive Rate (TPR)\": round(weighted_TPR, 4),\n",
    "    \"Weighted False Positive Rate (FPR)\": round(weighted_FPR, 4),\n",
    "    \"Weighted False Negative Rate (FNR)\": round(weighted_FNR, 4),\n",
    "    \"Weighted True Negative Rate (TNR)\": round(weighted_TNR, 4)\n",
    "}\n",
    "\n",
    "weighted_metrics"
   ]
  },
  {
   "cell_type": "code",
   "execution_count": null,
   "id": "173c5fd1",
   "metadata": {},
   "outputs": [
    {
     "data": {
      "text/plain": [
       "{'Macro True Positive Rate (TPR)': 0.7006,\n",
       " 'Macro False Positive Rate (FPR)': 0.0377,\n",
       " 'Macro False Negative Rate (FNR)': 0.2994,\n",
       " 'Macro True Negative Rate (TNR)': 0.9623}"
      ]
     },
     "execution_count": 170,
     "metadata": {},
     "output_type": "execute_result"
    }
   ],
   "source": [
    "num_classes = 6\n",
    "total_TPR, total_FPR, total_FNR, total_TNR = 0, 0, 0, 0\n",
    "\n",
    "for i in range(num_classes):\n",
    "    TP = conf_matrix[i, i]\n",
    "    FP = np.sum(conf_matrix[:, i]) - TP\n",
    "    FN = np.sum(conf_matrix[i, :]) - TP\n",
    "    TN = np.sum(conf_matrix) - TP - FP - FN\n",
    "\n",
    "    TPR = TP / (TP + FN) if TP + FN > 0 else 0\n",
    "    FPR = FP / (FP + TN) if FP + TN > 0 else 0\n",
    "    FNR = FN / (FN + TP) if FN + TP > 0 else 0\n",
    "    TNR = TN / (TN + FP) if TN + FP > 0 else 0\n",
    "\n",
    "    total_TPR += TPR\n",
    "    total_FPR += FPR\n",
    "    total_FNR += FNR\n",
    "    total_TNR += TNR\n",
    "\n",
    "macro_TPR = total_TPR / num_classes\n",
    "macro_FPR = total_FPR / num_classes\n",
    "macro_FNR = total_FNR / num_classes\n",
    "macro_TNR = total_TNR / num_classes\n",
    "\n",
    "macro_metrics = {\n",
    "    \"Macro True Positive Rate (TPR)\": round(macro_TPR, 4),\n",
    "    \"Macro False Positive Rate (FPR)\": round(macro_FPR, 4),\n",
    "    \"Macro False Negative Rate (FNR)\": round(macro_FNR, 4),\n",
    "    \"Macro True Negative Rate (TNR)\": round(macro_TNR, 4)\n",
    "}\n",
    "\n",
    "macro_metrics"
   ]
  },
  {
   "cell_type": "code",
   "execution_count": null,
   "id": "8a6d49ea",
   "metadata": {},
   "outputs": [
    {
     "data": {
      "text/plain": [
       "{'Micro True Positive Rate (TPR)': 0.8361,\n",
       " 'Micro False Positive Rate (FPR)': 0.0356,\n",
       " 'Micro False Negative Rate (FNR)': 0.1639,\n",
       " 'Micro True Negative Rate (TNR)': 0.9644}"
      ]
     },
     "execution_count": 171,
     "metadata": {},
     "output_type": "execute_result"
    }
   ],
   "source": [
    "num_classes = 6\n",
    "total_TP, total_FP, total_FN, total_TN = 0, 0, 0, 0\n",
    "\n",
    "for i in range(num_classes):\n",
    "    TP = conf_matrix[i, i]\n",
    "    FP = np.sum(conf_matrix[:, i]) - TP\n",
    "    FN = np.sum(conf_matrix[i, :]) - TP\n",
    "    TN = np.sum(conf_matrix) - TP - FP - FN\n",
    "\n",
    "    total_TP += TP\n",
    "    total_FP += FP\n",
    "    total_FN += FN\n",
    "    total_TN += TN\n",
    "\n",
    "micro_TPR = total_TP / (total_TP + total_FN) if total_TP + total_FN > 0 else 0\n",
    "micro_FPR = total_FP / (total_FP + total_TN) if total_FP + total_TN > 0 else 0\n",
    "micro_FNR = total_FN / (total_FN + total_TP) if total_FN + total_TP > 0 else 0\n",
    "micro_TNR = total_TN / (total_TN + total_FP) if total_TN + total_FP > 0 else 0\n",
    "\n",
    "micro_metrics = {\n",
    "    \"Micro True Positive Rate (TPR)\": round(micro_TPR, 4),\n",
    "    \"Micro False Positive Rate (FPR)\": round(micro_FPR, 4),\n",
    "    \"Micro False Negative Rate (FNR)\": round(micro_FNR, 4),\n",
    "    \"Micro True Negative Rate (TNR)\": round(micro_TNR, 4)\n",
    "}\n",
    "\n",
    "micro_metrics"
   ]
  },
  {
   "cell_type": "markdown",
   "id": "44209981",
   "metadata": {},
   "source": [
    "## RNN"
   ]
  },
  {
   "cell_type": "code",
   "execution_count": null,
   "id": "c4748db6",
   "metadata": {},
   "outputs": [],
   "source": [
    "num_features = 61\n",
    "num_classes = 10  # Number of classes\n",
    "\n",
    "class RNNTabularMulticlass(nn.Module):\n",
    "    def __init__(self, input_size, hidden_size, output_size):\n",
    "        super(RNNTabularMulticlass, self).__init__()\n",
    "        self.rnn = nn.RNN(input_size, hidden_size, num_layers=3, batch_first=True)\n",
    "        self.fc = nn.Linear(hidden_size, output_size)\n",
    "\n",
    "    def forward(self, x):\n",
    "        out, _ = self.rnn(x)\n",
    "        out = self.fc(out[:, -1, :])  # Take the output of the last time step\n",
    "        return out"
   ]
  },
  {
   "cell_type": "code",
   "execution_count": null,
   "id": "ade39b5d",
   "metadata": {},
   "outputs": [
    {
     "name": "stdout",
     "output_type": "stream",
     "text": [
      "Epoch [1/100], Training Loss: 0.6053, Validation Loss: 0.5278\n",
      "Epoch [2/100], Training Loss: 0.5120, Validation Loss: 0.4963\n",
      "Epoch [3/100], Training Loss: 0.4855, Validation Loss: 0.4752\n",
      "Epoch [4/100], Training Loss: 0.4695, Validation Loss: 0.4658\n",
      "Epoch [5/100], Training Loss: 0.4595, Validation Loss: 0.4620\n",
      "Epoch [6/100], Training Loss: 0.4531, Validation Loss: 0.4572\n",
      "Epoch [7/100], Training Loss: 0.4481, Validation Loss: 0.4538\n",
      "Epoch [8/100], Training Loss: 0.4443, Validation Loss: 0.4483\n",
      "Epoch [9/100], Training Loss: 0.4400, Validation Loss: 0.4453\n",
      "Epoch [10/100], Training Loss: 0.4373, Validation Loss: 0.4419\n",
      "Epoch [11/100], Training Loss: 0.4348, Validation Loss: 0.4404\n",
      "Epoch [12/100], Training Loss: 0.4320, Validation Loss: 0.4391\n",
      "Epoch [13/100], Training Loss: 0.4297, Validation Loss: 0.4381\n",
      "Epoch [14/100], Training Loss: 0.4281, Validation Loss: 0.4376\n",
      "Epoch [15/100], Training Loss: 0.4263, Validation Loss: 0.4359\n",
      "Epoch [16/100], Training Loss: 0.4244, Validation Loss: 0.4372\n",
      "Epoch [17/100], Training Loss: 0.4228, Validation Loss: 0.4360\n",
      "Epoch [18/100], Training Loss: 0.4209, Validation Loss: 0.4362\n",
      "Epoch [19/100], Training Loss: 0.4193, Validation Loss: 0.4342\n",
      "Epoch [20/100], Training Loss: 0.4182, Validation Loss: 0.4356\n",
      "Epoch [21/100], Training Loss: 0.4170, Validation Loss: 0.4357\n",
      "Epoch [22/100], Training Loss: 0.4158, Validation Loss: 0.4330\n",
      "Epoch [23/100], Training Loss: 0.4143, Validation Loss: 0.4339\n",
      "Epoch [24/100], Training Loss: 0.4135, Validation Loss: 0.4310\n",
      "Epoch [25/100], Training Loss: 0.4123, Validation Loss: 0.4325\n",
      "Epoch [26/100], Training Loss: 0.4112, Validation Loss: 0.4326\n",
      "Epoch [27/100], Training Loss: 0.4104, Validation Loss: 0.4321\n",
      "Epoch [28/100], Training Loss: 0.4090, Validation Loss: 0.4322\n",
      "Epoch [29/100], Training Loss: 0.4079, Validation Loss: 0.4315\n",
      "Early stopping triggered\n",
      "Finished Training\n"
     ]
    }
   ],
   "source": [
    "input_size = num_features\n",
    "hidden_size = 100\n",
    "output_size = num_classes  # Multiclass classification\n",
    "model_rnn = RNNTabularMulticlass(input_size, hidden_size, output_size)\n",
    "\n",
    "early_stopping = EarlyStopping(patience=5, delta=0.0001)\n",
    "\n",
    "criterion = nn.CrossEntropyLoss()\n",
    "optimizer = optim.Adam(model_rnn.parameters(), lr=0.001)\n",
    "\n",
    "epochs = 100\n",
    "training_losses = []\n",
    "validation_losses = [] \n",
    "\n",
    "for epoch in range(epochs):\n",
    "    model_rnn.train()\n",
    "    train_loss = 0.0\n",
    "    for inputs, labels in train_loader:\n",
    "        optimizer.zero_grad()\n",
    "\n",
    "        # Forward pass\n",
    "        outputs = model_rnn(inputs.unsqueeze(1))  # Reshape input\n",
    "        loss = criterion(outputs.squeeze(), labels)\n",
    "        loss.backward()\n",
    "        optimizer.step()\n",
    "        train_loss += loss.item()\n",
    "\n",
    "    avg_train_loss = train_loss / len(train_loader)\n",
    "    training_losses.append(avg_train_loss)\n",
    "\n",
    "    # Validation\n",
    "    model_rnn.eval()\n",
    "    with torch.no_grad():\n",
    "        val_loss = 0.0\n",
    "        for inputs, labels in test_loader:\n",
    "            outputs = model_rnn(inputs.unsqueeze(1))  # Reshape input\n",
    "            loss = criterion(outputs.squeeze(), labels)\n",
    "            val_loss += loss.item()\n",
    "\n",
    "        avg_val_loss = val_loss / len(test_loader)\n",
    "        validation_losses.append(avg_val_loss)\n",
    "\n",
    "    print(f'Epoch [{epoch + 1}/{epochs}], Training Loss: {avg_train_loss:.4f}, Validation Loss: {avg_val_loss:.4f}')\n",
    "\n",
    "    # Implement early stopping\n",
    "    if early_stopping is None:\n",
    "        early_stopping = EarlyStopping(patience=5, delta=0.0001)\n",
    "    \n",
    "    early_stopping(avg_val_loss)\n",
    "    if early_stopping.early_stop:\n",
    "        print(\"Early stopping triggered\")\n",
    "        break\n",
    "\n",
    "print('Finished Training')\n"
   ]
  },
  {
   "cell_type": "code",
   "execution_count": null,
   "id": "abfd2447",
   "metadata": {},
   "outputs": [
    {
     "data": {
      "image/png": "[encoded data removed]",
      "text/plain": [
       "<Figure size 1000x600 with 1 Axes>"
      ]
     },
     "metadata": {},
     "output_type": "display_data"
    }
   ],
   "source": [
    "# Get the training and validation graphs\n",
    "\n",
    "plt.figure(figsize=(10, 6))\n",
    "plt.plot(training_losses, label='Training Loss')\n",
    "plt.plot(validation_losses, label='Validation Loss')\n",
    "plt.title('Training and Validation Loss per Epoch')\n",
    "plt.xlabel('Epochs')\n",
    "plt.ylabel('Loss')\n",
    "plt.legend()\n",
    "plt.show()"
   ]
  },
  {
   "cell_type": "code",
   "execution_count": null,
   "id": "90c8d143",
   "metadata": {},
   "outputs": [],
   "source": [
    "# Evaluations\n",
    "model_rnn.eval()\n",
    "\n",
    "all_predictions = []\n",
    "all_labels = []\n",
    "\n",
    "with torch.no_grad():\n",
    "    test_outputs = model_rnn(X_test_tensor.unsqueeze(1))\n",
    "    predicted_probs = torch.softmax(test_outputs, dim=1).numpy()\n",
    "    predicted_labels = torch.argmax(test_outputs.squeeze(), dim=1).numpy()\n",
    "\n",
    "conf_matrix = confusion_matrix(y_test_tensor.numpy(), predicted_labels)"
   ]
  },
  {
   "cell_type": "code",
   "execution_count": null,
   "id": "904df68b",
   "metadata": {},
   "outputs": [
    {
     "data": {
      "image/png": "[encoded data removed]",
      "text/plain": [
       "<Figure size 800x600 with 1 Axes>"
      ]
     },
     "metadata": {},
     "output_type": "display_data"
    }
   ],
   "source": [
    "import seaborn as sns\n",
    "\n",
    "plt.figure(figsize=(8, 6))\n",
    "sns.set(font_scale=1.2)  # Adjust the font size for better readability\n",
    "sns.heatmap(conf_matrix, annot=True, fmt='d', cmap='Blues', linewidths=0.5, square=True, cbar=False,\n",
    "            xticklabels=[f'Class {i}' for i in range(num_classes)],\n",
    "            yticklabels=[f'Class {i}' for i in range(num_classes)])\n",
    "plt.xlabel('Predicted Labels')\n",
    "plt.ylabel('True Labels')\n",
    "plt.title('Confusion Matrix')\n",
    "plt.show()"
   ]
  },
  {
   "cell_type": "code",
   "execution_count": null,
   "id": "38a56249",
   "metadata": {},
   "outputs": [
    {
     "name": "stdout",
     "output_type": "stream",
     "text": [
      "Accuracy: 0.8221\n",
      "Macro Precision: 0.7564\n",
      "Macro Recall: 0.5204\n",
      "Macro F1 Score: 0.5384\n"
     ]
    }
   ],
   "source": [
    "accuracy = accuracy_score(y_test_tensor.numpy(), predicted_labels)\n",
    "precision, recall, f1, _ = precision_recall_fscore_support(y_test_tensor.numpy(), predicted_labels, average='macro')\n",
    "\n",
    "print(f'Accuracy: {accuracy:.4f}')\n",
    "print(f'Macro Precision: {precision:.4f}')\n",
    "print(f'Macro Recall: {recall:.4f}')\n",
    "print(f'Macro F1 Score: {f1:.4f}')"
   ]
  },
  {
   "cell_type": "code",
   "execution_count": null,
   "id": "88ebe245",
   "metadata": {},
   "outputs": [
    {
     "name": "stdout",
     "output_type": "stream",
     "text": [
      "Accuracy: 0.8221\n",
      "Micro Precision: 0.8221\n",
      "Micro Recall: 0.8221\n",
      "Micro F1 Score: 0.8221\n"
     ]
    }
   ],
   "source": [
    "accuracy = accuracy_score(y_test_tensor.numpy(), predicted_labels)\n",
    "precision, recall, f1, _ = precision_recall_fscore_support(y_test_tensor.numpy(), predicted_labels, average='micro')\n",
    "\n",
    "print(f'Accuracy: {accuracy:.4f}')\n",
    "print(f'Micro Precision: {precision:.4f}')\n",
    "print(f'Micro Recall: {recall:.4f}')\n",
    "print(f'Micro F1 Score: {f1:.4f}')"
   ]
  },
  {
   "cell_type": "code",
   "execution_count": null,
   "id": "63a6b2f9",
   "metadata": {},
   "outputs": [
    {
     "name": "stdout",
     "output_type": "stream",
     "text": [
      "Accuracy: 0.8221\n",
      "Macro Precision: 0.8208\n",
      "Macro Recall: 0.8221\n",
      "Macro F1 Score: 0.8033\n"
     ]
    }
   ],
   "source": [
    "accuracy = accuracy_score(y_test_tensor.numpy(), predicted_labels)\n",
    "precision, recall, f1, _ = precision_recall_fscore_support(y_test_tensor.numpy(), predicted_labels, average='weighted')\n",
    "\n",
    "print(f'Accuracy: {accuracy:.4f}')\n",
    "print(f'Macro Precision: {precision:.4f}')\n",
    "print(f'Macro Recall: {recall:.4f}')\n",
    "print(f'Macro F1 Score: {f1:.4f}')"
   ]
  },
  {
   "cell_type": "code",
   "execution_count": null,
   "id": "a47fe27c",
   "metadata": {},
   "outputs": [
    {
     "name": "stdout",
     "output_type": "stream",
     "text": [
      "0.9699844602443871\n"
     ]
    }
   ],
   "source": [
    "roc_auc = roc_auc_score(y_test_tensor.numpy(), predicted_probs, average='macro', multi_class='ovr')\n",
    "print(roc_auc)"
   ]
  },
  {
   "cell_type": "code",
   "execution_count": null,
   "id": "7bd94019",
   "metadata": {},
   "outputs": [
    {
     "name": "stdout",
     "output_type": "stream",
     "text": [
      "0.9894443989004379\n"
     ]
    }
   ],
   "source": [
    "roc_auc = roc_auc_score(y_test_tensor.numpy(), predicted_probs, average='micro', multi_class='ovr')\n",
    "print(roc_auc)"
   ]
  },
  {
   "cell_type": "code",
   "execution_count": null,
   "id": "78fcfae5",
   "metadata": {},
   "outputs": [
    {
     "name": "stdout",
     "output_type": "stream",
     "text": [
      "0.9789589774361417\n"
     ]
    }
   ],
   "source": [
    "roc_auc = roc_auc_score(y_test_tensor.numpy(), predicted_probs, average='weighted', multi_class='ovr')\n",
    "print(roc_auc)"
   ]
  },
  {
   "cell_type": "code",
   "execution_count": null,
   "id": "d917c8a5",
   "metadata": {},
   "outputs": [
    {
     "name": "stdout",
     "output_type": "stream",
     "text": [
      "Macro-Average TPR: 0.5204\n",
      "Macro-Average FPR: 0.0222\n",
      "Macro-Average TNR: 0.9778\n",
      "Macro-Average FNR: 0.4796\n"
     ]
    }
   ],
   "source": [
    "class_labels = list(range(num_classes))\n",
    "tpr = []\n",
    "fpr = []\n",
    "tnr = []\n",
    "fnr = []\n",
    "\n",
    "for i in class_labels:\n",
    "    tp = conf_matrix[i, i]\n",
    "    fp = conf_matrix[:, i].sum() - tp\n",
    "    tn = conf_matrix.sum() - (fp + conf_matrix[i, :].sum())\n",
    "    fn = conf_matrix[i, :].sum() - tp\n",
    "\n",
    "    tpr_i = tp / (tp + fn)\n",
    "    fpr_i = fp / (fp + tn)\n",
    "    tnr_i = tn / (tn + fp)  \n",
    "    fnr_i = fn / (fn + tp)  \n",
    "\n",
    "    tpr.append(tpr_i)\n",
    "    fpr.append(fpr_i)\n",
    "    tnr.append(tnr_i)\n",
    "    fnr.append(fnr_i)\n",
    "\n",
    "macro_avg_tpr = sum(tpr) / len(tpr)\n",
    "macro_avg_fpr = sum(fpr) / len(fpr)\n",
    "macro_avg_tnr = sum(tnr) / len(tnr)\n",
    "macro_avg_fnr = sum(fnr) / len(fnr)\n",
    "\n",
    "print(f'Macro-Average TPR: {macro_avg_tpr:.4f}')\n",
    "print(f'Macro-Average FPR: {macro_avg_fpr:.4f}')\n",
    "print(f'Macro-Average TNR: {macro_avg_tnr:.4f}')\n",
    "print(f'Macro-Average FNR: {macro_avg_fnr:.4f}')"
   ]
  },
  {
   "cell_type": "code",
   "execution_count": null,
   "id": "1e3fbb28",
   "metadata": {},
   "outputs": [
    {
     "name": "stdout",
     "output_type": "stream",
     "text": [
      "Micro-Average TPR: 0.8221\n",
      "Micro-Average FPR: 0.0198\n",
      "Micro-Average TNR: 0.9802\n",
      "Micro-Average FNR: 0.1779\n"
     ]
    }
   ],
   "source": [
    "class_labels = list(range(num_classes))\n",
    "\n",
    "tp_total = 0\n",
    "fp_total = 0\n",
    "tn_total = 0\n",
    "fn_total = 0\n",
    "\n",
    "for i in class_labels:\n",
    "    tp = conf_matrix[i, i]\n",
    "    fp = conf_matrix[:, i].sum() - tp\n",
    "    tn = conf_matrix.sum() - (fp + conf_matrix[i, :].sum())\n",
    "    fn = conf_matrix[i, :].sum() - tp\n",
    "\n",
    "    # Aggregate counts\n",
    "    tp_total += tp\n",
    "    fp_total += fp\n",
    "    tn_total += tn\n",
    "    fn_total += fn\n",
    "\n",
    "# Compute micro-average rates\n",
    "micro_avg_tpr = tp_total / (tp_total + fn_total)\n",
    "micro_avg_fpr = fp_total / (fp_total + tn_total)\n",
    "micro_avg_tnr = tn_total / (tn_total + fp_total)\n",
    "micro_avg_fnr = fn_total / (fn_total + tp_total)\n",
    "\n",
    "print(f'Micro-Average TPR: {micro_avg_tpr:.4f}')\n",
    "print(f'Micro-Average FPR: {micro_avg_fpr:.4f}')\n",
    "print(f'Micro-Average TNR: {micro_avg_tnr:.4f}')\n",
    "print(f'Micro-Average FNR: {micro_avg_fnr:.4f}')"
   ]
  },
  {
   "cell_type": "code",
   "execution_count": null,
   "id": "b92c9916",
   "metadata": {},
   "outputs": [
    {
     "name": "stdout",
     "output_type": "stream",
     "text": [
      "Weighted-Average TPR: 0.8221\n",
      "Weighted-Average FPR: 0.0437\n",
      "Weighted-Average TNR: 0.9563\n",
      "Weighted-Average FNR: 0.1779\n"
     ]
    }
   ],
   "source": [
    "class_labels = list(range(num_classes))\n",
    "\n",
    "weighted_sum_tpr = 0\n",
    "weighted_sum_fpr = 0\n",
    "weighted_sum_tnr = 0\n",
    "weighted_sum_fnr = 0\n",
    "\n",
    "total_instances = conf_matrix.sum()\n",
    "\n",
    "for i in class_labels:\n",
    "    tp = conf_matrix[i, i]\n",
    "    fp = conf_matrix[:, i].sum() - tp\n",
    "    tn = conf_matrix.sum() - (fp + conf_matrix[i, :].sum())\n",
    "    fn = conf_matrix[i, :].sum() - tp\n",
    "\n",
    "    tpr_i = tp / (tp + fn) if (tp + fn) > 0 else 0\n",
    "    fpr_i = fp / (fp + tn) if (fp + tn) > 0 else 0\n",
    "    tnr_i = tn / (tn + fp) if (tn + fp) > 0 else 0\n",
    "    fnr_i = fn / (fn + tp) if (fn + tp) > 0 else 0\n",
    "\n",
    "    class_weight = (tp + fn) / total_instances\n",
    "\n",
    "    weighted_sum_tpr += tpr_i * class_weight\n",
    "    weighted_sum_fpr += fpr_i * class_weight\n",
    "    weighted_sum_tnr += tnr_i * class_weight\n",
    "    weighted_sum_fnr += fnr_i * class_weight\n",
    "\n",
    "print(f'Weighted-Average TPR: {weighted_sum_tpr:.4f}')\n",
    "print(f'Weighted-Average FPR: {weighted_sum_fpr:.4f}')\n",
    "print(f'Weighted-Average TNR: {weighted_sum_tnr:.4f}')\n",
    "print(f'Weighted-Average FNR: {weighted_sum_fnr:.4f}')"
   ]
  },
  {
   "cell_type": "code",
   "execution_count": null,
   "id": "c0dd0d93",
   "metadata": {},
   "outputs": [],
   "source": []
  }
 ],
 "metadata": {
  "kernelspec": {
   "display_name": "Python 3 (ipykernel)",
   "language": "python",
   "name": "python3"
  },
  "language_info": {
   "codemirror_mode": {
    "name": "ipython",
    "version": 3
   },
   "file_extension": ".py",
   "mimetype": "text/x-python",
   "name": "python",
   "nbconvert_exporter": "python",
   "pygments_lexer": "ipython3",
   "version": "3.12.4"
  }
 },
 "nbformat": 4,
 "nbformat_minor": 5
}
