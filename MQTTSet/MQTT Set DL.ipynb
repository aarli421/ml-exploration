{
 "cells": [
  {
   "cell_type": "code",
   "execution_count": 76,
   "id": "4a1cf05a",
   "metadata": {},
   "outputs": [],
   "source": [
    "import pandas as pd\n",
    "import numpy as np\n",
    "import matplotlib.pyplot as plt\n",
    "\n",
    "from sklearn.model_selection import train_test_split\n",
    "from sklearn import metrics\n",
    "from tensorflow.keras.models import Sequential\n",
    "from tensorflow.keras.layers import Dense, Activation\n",
    "from tensorflow.keras.callbacks import EarlyStopping\n",
    "from sklearn import tree \n",
    "from sklearn.metrics import confusion_matrix\n",
    "from matplotlib import pyplot as pyplot\n",
    "from sklearn.metrics import roc_auc_score, roc_curve\n",
    "from sklearn.metrics import accuracy_score, precision_score, recall_score, f1_score\n",
    "from sklearn.preprocessing import label_binarize\n",
    "from sklearn.metrics import precision_recall_fscore_support\n",
    "\n",
    "from warnings import simplefilter\n",
    "import time\n",
    "start = time.time()"
   ]
  },
  {
   "cell_type": "code",
   "execution_count": 68,
   "id": "bde6aff5",
   "metadata": {},
   "outputs": [],
   "source": [
    "df = pd.read_csv(\"pretrained.csv\", low_memory=False)\n",
    "labels = df['class']"
   ]
  },
  {
   "cell_type": "code",
   "execution_count": null,
   "id": "b63fa7dc",
   "metadata": {},
   "outputs": [],
   "source": [
    "x_train, x_test, y_train, y_test = train_test_split(df, labels, test_size=0.2, random_state=69)"
   ]
  },
  {
   "cell_type": "code",
   "execution_count": 23,
   "id": "dca71a29",
   "metadata": {},
   "outputs": [],
   "source": [
    "import torch\n",
    "import torch.nn as nn\n",
    "import torch.optim as optim\n",
    "import torch.nn.functional as F\n",
    "from torch.utils.data import DataLoader, TensorDataset"
   ]
  },
  {
   "cell_type": "code",
   "execution_count": 26,
   "id": "44c4567a",
   "metadata": {},
   "outputs": [],
   "source": [
    "X_train_tensor = torch.tensor(x_train, dtype=torch.float32)\n",
    "X_test_tensor = torch.tensor(x_test, dtype=torch.float32)\n",
    "\n",
    "y_train_tensor = torch.tensor(y_train, dtype=torch.long)\n",
    "y_test_tensor = torch.tensor(y_test, dtype=torch.long)\n",
    "\n",
    "train_dataset = TensorDataset(X_train_tensor, y_train_tensor)\n",
    "train_loader = DataLoader(dataset=train_dataset, batch_size=1000)\n",
    "\n",
    "test_dataset = TensorDataset(X_test_tensor, y_test_tensor)\n",
    "test_loader = DataLoader(dataset=test_dataset, batch_size=1000)"
   ]
  },
  {
   "cell_type": "code",
   "execution_count": null,
   "id": "a1db3713",
   "metadata": {},
   "outputs": [],
   "source": [
    "class DNNMulticlass(nn.Module):\n",
    "\n",
    "    def __init__(self):\n",
    "        super().__init__()\n",
    "        self.layer1 = nn.Linear(33, 50) # 33 features => X_train.shape[1]\n",
    "        self.layer2 = nn.Linear(50, 30)\n",
    "        self.layer3 = nn.Linear(30, 20)\n",
    "        self.out_layer = nn.Linear(20, 6) # 6 classifications =>  y_train.value_counts()\n",
    "\n",
    "    def forward(self, x):\n",
    "        x = F.leaky_relu(self.layer1(x), negative_slope=0.05)\n",
    "        x = F.leaky_relu(self.layer2(x), negative_slope=0.05)\n",
    "        x = F.leaky_relu(self.layer3(x), negative_slope=0.05)\n",
    "        x = self.out_layer(x) \n",
    "        return x"
   ]
  },
  {
   "cell_type": "code",
   "execution_count": 27,
   "id": "aeacd16a",
   "metadata": {},
   "outputs": [],
   "source": [
    "class EarlyStopping:\n",
    "    def __init__(self, patience=5, delta=0):\n",
    "        self.patience = patience\n",
    "        self.counter = 0\n",
    "        self.best_loss = None\n",
    "        self.early_stop = False\n",
    "        self.delta = delta\n",
    "\n",
    "    def __call__(self, val_loss):\n",
    "        if self.best_loss is None:\n",
    "            self.best_loss = val_loss\n",
    "        elif val_loss > self.best_loss - self.delta:\n",
    "            self.counter += 1\n",
    "            if self.counter >= self.patience:\n",
    "                self.early_stop = True\n",
    "        else:\n",
    "            self.best_loss = val_loss\n",
    "            self.counter = 0"
   ]
  },
  {
   "cell_type": "code",
   "execution_count": 30,
   "id": "0653ec79",
   "metadata": {},
   "outputs": [
    {
     "name": "stdout",
     "output_type": "stream",
     "text": [
      "Epoch [1/10], Training Loss: 0.0460, Validation Loss: 0.0576\n",
      "Epoch [2/10], Training Loss: 0.0202, Validation Loss: 0.0652\n",
      "Epoch [3/10], Training Loss: 0.0156, Validation Loss: 0.0625\n",
      "Epoch [4/10], Training Loss: 0.0143, Validation Loss: 0.0599\n",
      "Epoch [5/10], Training Loss: 0.0137, Validation Loss: 0.0605\n",
      "Epoch [6/10], Training Loss: 0.0134, Validation Loss: 0.0604\n",
      "Epoch [7/10], Training Loss: 0.0131, Validation Loss: 0.0604\n",
      "Epoch [8/10], Training Loss: 0.0129, Validation Loss: 0.0589\n",
      "Epoch [9/10], Training Loss: 0.0129, Validation Loss: 0.0546\n",
      "Epoch [10/10], Training Loss: 0.0128, Validation Loss: 0.0547\n",
      "Finished Training\n"
     ]
    }
   ],
   "source": [
    "# Training script\n",
    "\n",
    "model_dnn = DNNMulticlass()\n",
    "early_stopping = EarlyStopping(patience=10, delta=0.001) # If model doesn't improve by 0.001 in \"patience\" steps, end training \n",
    "\n",
    "criterion = nn.CrossEntropyLoss() \n",
    "optimizer = optim.Adam(model_dnn.parameters(), lr=0.001)\n",
    "\n",
    "training_losses = []\n",
    "validation_losses = []\n",
    "\n",
    "epochs = 10\n",
    "for epoch in range(epochs): \n",
    "    model_dnn.train()\n",
    "    train_loss = 0.0\n",
    "    for inputs, labels in train_loader:\n",
    "\n",
    "        optimizer.zero_grad()\n",
    "\n",
    "        # Feed forward + backpropogate\n",
    "        outputs = model_dnn(inputs)\n",
    "        loss = criterion(outputs, labels)\n",
    "        loss.backward()\n",
    "        optimizer.step()\n",
    "        train_loss += loss.item()\n",
    "\n",
    "    avg_train_loss = train_loss / len(train_loader)\n",
    "    training_losses.append(avg_train_loss)\n",
    "\n",
    "    # Validation\n",
    "    model_dnn.eval()\n",
    "    with torch.no_grad():\n",
    "        val_loss = 0.0\n",
    "        for inputs, labels in test_loader:\n",
    "            outputs = model_dnn(inputs)\n",
    "            loss = criterion(outputs, labels)\n",
    "            val_loss += loss.item()\n",
    "\n",
    "        # Average validation loss for this epoch\n",
    "        avg_val_loss = val_loss / len(test_loader)\n",
    "        validation_losses.append(avg_val_loss)\n",
    "\n",
    "    print(f'Epoch [{epoch + 1}/{epochs}], Training Loss: {avg_train_loss:.4f}, Validation Loss: {avg_val_loss:.4f}')\n",
    "\n",
    "    early_stopping(avg_val_loss)\n",
    "    if early_stopping.early_stop:\n",
    "        print(\"Early stopping triggered\")\n",
    "        break\n",
    "\n",
    "print('Finished Training')"
   ]
  },
  {
   "cell_type": "code",
   "execution_count": 31,
   "id": "40d6d0fe",
   "metadata": {},
   "outputs": [
    {
     "data": {
      "image/png": "[encoded data removed]",
      "text/plain": [
       "<Figure size 1000x600 with 1 Axes>"
      ]
     },
     "metadata": {},
     "output_type": "display_data"
    }
   ],
   "source": [
    "# Get the training and validation graphs\n",
    "\n",
    "plt.figure(figsize=(10, 6))\n",
    "plt.plot(training_losses, label='Training Loss')\n",
    "plt.plot(validation_losses, label='Validation Loss')\n",
    "plt.title('Training and Validation Loss per Epoch')\n",
    "plt.xlabel('Epochs')\n",
    "plt.ylabel('Loss')\n",
    "plt.legend()\n",
    "plt.show()"
   ]
  }
 ],
 "metadata": {
  "kernelspec": {
   "display_name": "Python 3 (ipykernel)",
   "language": "python",
   "name": "python3"
  },
  "language_info": {
   "codemirror_mode": {
    "name": "ipython",
    "version": 3
   },
   "file_extension": ".py",
   "mimetype": "text/x-python",
   "name": "python",
   "nbconvert_exporter": "python",
   "pygments_lexer": "ipython3",
   "version": "3.10.9"
  }
 },
 "nbformat": 4,
 "nbformat_minor": 5
}
